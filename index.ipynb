{
 "cells": [
  {
   "cell_type": "markdown",
   "id": "d10632ad",
   "metadata": {},
   "source": [
    "# Neuromorphic Algorithms Research\n",
    "\n",
    "Neuromorphic computing is a new scientific frontier to build the next generation of computational devices inspired by the brain.\n",
    "Designing and taking advantage of these new computer architectures requires new developments in theoretical and computational approaches in neural networks and distributed computing. \n",
    "Here, I discuss some of the research we have developed towards making neuromorphic computing devices mainstream.\n",
    "\n",
    "[About Me](about_me)\n",
    "\n",
    "[Research](Research/spiking_networks.ipynb)\n",
    "\n"
   ]
  }
 ],
 "metadata": {
  "kernelspec": {
   "display_name": "Python 3 (ipykernel)",
   "language": "python",
   "name": "python3"
  },
  "language_info": {
   "codemirror_mode": {
    "name": "ipython",
    "version": 3
   },
   "file_extension": ".py",
   "mimetype": "text/x-python",
   "name": "python",
   "nbconvert_exporter": "python",
   "pygments_lexer": "ipython3",
   "version": "3.9.7"
  }
 },
 "nbformat": 4,
 "nbformat_minor": 5
}
