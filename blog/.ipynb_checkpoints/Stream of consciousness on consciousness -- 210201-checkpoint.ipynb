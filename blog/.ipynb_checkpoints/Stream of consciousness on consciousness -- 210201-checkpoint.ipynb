{
 "cells": [
  {
   "cell_type": "markdown",
   "metadata": {},
   "source": [
    "# Consciousness manifesto\n",
    "\n",
    "Talking about consciousness is often a taboo. Typically, when someone gives a talk about consciousness there is immediately a disconnect. Too many ideas have already been proposed and the history is so long and deep that it is hard to cover every aspect of thought.\n",
    "\n",
    "Typically when I hear a talk on consciousness, my eyes-roll and I hear an idea that has been proposed before. \n",
    "\n",
    "A popular idea is Tononi's integrated information. I was originally excited by this idea because it pointed out a few fundamental aspects of qualia that I think are indeed true. For instance, Qualia is an amount, it is measured in bits of information. \n",
    "\n",
    "Intrinsically this makes some sense. I have visual consciousness, and when my eyes are closed the amount of information in my visual consciousness is less. \n",
    "\n",
    "However, Tononi's notion and attempt to mathematically formulate this metric is not actually a metric for qualia per se. Rather, it is a metric of what may constitute an object. \n",
    "\n",
    "Roughly the mathematical formalism is based on the concept of the whole being greater than the sum of its parts. Tononi takes this literally -- by proposing a way of dividing up a system and measuring causal links of different subsystems. Indeed, this can be used to effectively generate a metric of whole being greater than the sum of parts.\n",
    "\n",
    "However, is this qualia? Not really. As Tegmark shows, you can use IIT to define the boundary between water and ice, between the glass and the ice-water. Breaking up systems into pieces naturally leads to an object hierarchy, and this typically corresponds to our intuitions about an object or not an object. \n",
    "\n",
    "So what is wrong? Well is ice conscious? I don't think so.\n",
    "\n",
    "Instead I have been fleshing out a different path towards understanding Qualia. Some basics concepts are shared, such as the idea that qualia has an amount that is measured in bits. However, the intuition behind the metric is not the whole is greater than the sum of its parts. Rather, it is rooted in computation and the aspects of computers that make them a special part of the Universe.\n",
    "\n",
    "\n"
   ]
  }
 ],
 "metadata": {
  "kernelspec": {
   "display_name": "Python 3",
   "language": "python",
   "name": "python3"
  },
  "language_info": {
   "codemirror_mode": {
    "name": "ipython",
    "version": 3
   },
   "file_extension": ".py",
   "mimetype": "text/x-python",
   "name": "python",
   "nbconvert_exporter": "python",
   "pygments_lexer": "ipython3",
   "version": "3.7.3"
  }
 },
 "nbformat": 4,
 "nbformat_minor": 4
}
