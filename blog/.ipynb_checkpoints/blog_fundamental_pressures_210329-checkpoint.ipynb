{
 "cells": [
  {
   "cell_type": "markdown",
   "metadata": {},
   "source": [
    "# Evolution dynamics and the fundamental evolutionary pressures\n",
    "\n",
    "The critical insight into evolution is that it is fundamentally about information, and systems capable of copying information will induce evolution and evolutionary pressure. \n",
    "\n",
    "Copying information is not free. There is an inherent metabolic cost to this, because copy is a computation, and it requires utilizes entropy available in a memory system. There are always physical counterparts to representations of information, and the procedure of copying requires physical work. \n",
    "\n",
    "But once evolutionary systems are instantiated and the procedure of copying the information begins, there are inevitable evolutionary pressures. Evolutionary pressure incorporates information into the system that promotes certain features. The system that copies itself wants to naturally maximize its fitness, and thus it want to maximize the rate at which copies of the information can be made.\n",
    "\n",
    "Life-forms thus are capable of harvesting energy to build a computational system that includes a memory. The information from the previous generation is copied to this memory. The memory contains the instructions as well as can be used as part of the ongoing computations to execute the instructions. Given that all the material for reconstructing the computational system can be harvested, then we would call this life.\n",
    "\n",
    "What are some of the fundamental pressures?\n",
    "\n",
    "Information capacity \n",
    "meta-evolution\n",
    "diversification\n"
   ]
  },
  {
   "cell_type": "code",
   "execution_count": null,
   "metadata": {},
   "outputs": [],
   "source": []
  }
 ],
 "metadata": {
  "kernelspec": {
   "display_name": "Python 3",
   "language": "python",
   "name": "python3"
  },
  "language_info": {
   "codemirror_mode": {
    "name": "ipython",
    "version": 3
   },
   "file_extension": ".py",
   "mimetype": "text/x-python",
   "name": "python",
   "nbconvert_exporter": "python",
   "pygments_lexer": "ipython3",
   "version": "3.7.3"
  }
 },
 "nbformat": 4,
 "nbformat_minor": 4
}
