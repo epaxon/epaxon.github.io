{
 "cells": [
  {
   "cell_type": "markdown",
   "metadata": {},
   "source": [
    "# Integrate-and-fire neuron basics\n",
    "\n",
    "Here, we will go over the basic spiking neuron model, the integrate-and-fire neuron. We will be using the [Brian2](https://briansimulator.org/) simulator for designing the networks and experiments. \n"
   ]
  },
  {
   "cell_type": "code",
   "execution_count": 1,
   "metadata": {},
   "outputs": [],
   "source": [
    "from pylab import *\n",
    "from brian2 import *\n",
    "import time"
   ]
  },
  {
   "cell_type": "code",
   "execution_count": 2,
   "metadata": {},
   "outputs": [
    {
     "name": "stderr",
     "output_type": "stream",
     "text": [
      "WARNING    /var/folders/xn/hqbqng2d6nz8f1lcyd545kqr0000gn/T/ipykernel_16537/3957815523.py:5: MatplotlibDeprecationWarning: Support for setting an rcParam that expects a str value to a non-str value is deprecated since 3.5 and support will be removed two minor releases later.\n",
      "  matplotlib.rcParams['text.latex.preamble'] = [\n",
      " [py.warnings]\n"
     ]
    }
   ],
   "source": [
    "%matplotlib inline\n",
    "\n",
    "plt.rcParams.update({'font.size': 18})\n",
    "plt.rcParams.update({'text.usetex': True})\n",
    "matplotlib.rcParams['text.latex.preamble'] = [\n",
    "    r'\\usepackage{amsmath}',\n",
    "    r'\\usepackage{amssymb}']\n",
    "plt.rcParams.update({'font.family': 'serif', \n",
    "                     'font.serif':['Computer Modern']})"
   ]
  },
  {
   "cell_type": "markdown",
   "metadata": {},
   "source": [
    "One aspect of Brian2 that I really appreciate is its use of actual physical units, and the unit checking engine. Sometimes this type of thing can be frustrating, but the system makes sure that you don't make mistakes and helps with debugging. As well, it is generally useful to remember the units and it helps better understand the physical relationships to the dynamical equations in the simulation.\n",
    "\n",
    "To that end, we are modeling neurons using the classic integrate-and-fire neuron model. Thus, we will also use physical units that are close to appropriate for biology. When we model biological neurons, we actually use the abstraction of electronic circuits, which means that our simulation uses Maxwell's equations. "
   ]
  },
  {
   "cell_type": "code",
   "execution_count": 3,
   "metadata": {},
   "outputs": [],
   "source": [
    "\n",
    "# Neuron parameters\n",
    "C_Ax = 2.0 * nF # Capacitance of action-potential compartment\n",
    "C_Sh = 2.0 * nF # Capacitance of shunt compartment\n",
    "C_in = 1.0 * nF # Capacitance of inhibitory cells\n",
    "\n",
    "g_c = 55.0 * nS # Coupling conductance\n",
    "g_l =  5.0 * nS # leak conductance\n",
    "\n",
    "E_l = -60.0 * mV # Resting potential\n",
    "E_i = -60.0 * mV # Shunting reversal potential\n",
    "\n",
    "V_t = -58.0 * mV # Threshold\n",
    "V_r = -62.0 * mV # Reset\n",
    "\n",
    "tau_e = 10.0 * ms # Excitatory time-constant.\n",
    "tau_i = 100.0 * ms # Shunting inhibition time-constant.\n",
    "\n",
    "eqs_1 = Equations('''\n",
    "    dV/dt = (g_l * (E_l - V) + I_ext + I_rec) / C_Ax : volt (unless refractory)\n",
    "    I_ext : amp\n",
    "    I_rec : amp\n",
    "    ''')\n",
    "\n",
    "# The principal cells and inhibitory neurons are based on the two-compartment model\n",
    "# for now the gi (shunting inhibition) variable is set to constant.\n",
    "eqs_2 = Equations('''\n",
    "    dV/dt = (g_l * (E_l - V) + g_c * (Vs - V)) / C_Ax : volt  (unless refractory)\n",
    "    dVs/dt = (g_l * (E_l - Vs) + g_c * (V - Vs) + gi * (E_i - Vs) + Id + I_ext + I_rec) / C_Sh : volt \n",
    "    dId/dt = -Id/tau_e : amp\n",
    "    dgi/dt = -0.0 * gi/tau_i : siemens\n",
    "    I_ext : amp\n",
    "    I_rec : amp\n",
    "    ''')\n",
    "\n",
    "# The principal cells and inhibitory neurons are based on the two-compartment model\n",
    "eqs_2_in = Equations('''\n",
    "    dV/dt = (g_l * (E_l - V) + g_c * (Vs - V)) / C_Ax : volt (unless refractory)\n",
    "    dVs/dt = (g_l * (E_l - Vs) + g_c * (V - Vs) + gi * (E_i - Vs) + Id + I_ext + I_rec) / C_in : volt\n",
    "    dId/dt = -Id/tau_e : amp\n",
    "    dgi/dt = -gi/tau_i : siemens\n",
    "    I_ext : amp\n",
    "    I_rec : amp\n",
    "    ''')"
   ]
  },
  {
   "cell_type": "markdown",
   "metadata": {},
   "source": [
    "## I&F neuron theory\n",
    "\n",
    "The integrate-and-fire neuron model has a nearly linear input-output function, and the slope and offset of this line can be determined directly from the parameters of the model. If we just focus on the axon compartment (i.e. the compartment that has the spiking mechanism), then we can compute the firing rate analytically.\n",
    "\n",
    "This is done by computing the time it takes to reach threshold from the reset potential when given a constant current reaching the axon, $I_s$. This time is given by:\n",
    "$$\n",
    "T_{spike} = \\frac{C_{Ax}}{g_l} \\log \\Big( \\frac{I_s + g_l (E_l - V_r)}{I_s + g_l (E_l - V_{\\theta})} \\Big) + \\tau_{ref}\n",
    "$$\n",
    "\n",
    "The \\emph{instantaneous-firing-rate} (IFR) is the inverse of $T_{spike}$:\n",
    "$$\n",
    "IFR = 1 / T_{spike}\n",
    "$$\n",
    "\n",
    "If the refractory period $\\tau_{ref}$ is 0, then the IFR approaches a straight line for large input currents. "
   ]
  },
  {
   "cell_type": "markdown",
   "metadata": {},
   "source": [
    "Linear apporximation of firing rate:\n",
    "\n",
    "$$\n",
    "IFR = m I_s + b\n",
    "$$\n",
    "\n",
    "$$\n",
    "m = \\frac{1.0}{C_{Ax} (V_{\\theta} - V_{r})}\n",
    "$$\n",
    "\n",
    "$$\n",
    "b = \\frac{-g_l ((V_{\\theta} - E_l) + (V_{r} - E_l))}{2C_{Ax} (V_{\\theta} - V_{r})}\n",
    "$$\n",
    "\n",
    "So if the threshold and the reset are equal voltages different from the resting potential, then the offset will be 0. This is useful for true gain control.\n"
   ]
  },
  {
   "cell_type": "code",
   "execution_count": 9,
   "metadata": {},
   "outputs": [
    {
     "name": "stdout",
     "output_type": "stream",
     "text": [
      "slope: 125. Hz offset: -0. Hz\n"
     ]
    }
   ],
   "source": [
    "print \"slope:\", 1.0 *nA / (C_Ax * (V_t - V_r)), \"offset:\", -g_l * (V_t + V_r - 2 * E_l) / (2*C_Ax * (V_t - V_r))"
   ]
  },
  {
   "cell_type": "markdown",
   "metadata": {},
   "source": [
    "Finally, the two compartment model can support multiplicative gain control. The gain factor, $\\Gamma I_d = I_s$, where $I_d$ is the dendritic input current, determines the ratio of the current that reaches the axon compartment and creates a spike:\n",
    "\n",
    "Gain factor:\n",
    "\n",
    "$$\n",
    "\\Gamma = \\frac{g_c}{g_l + g_c + g_{i}}\n",
    "$$"
   ]
  },
  {
   "cell_type": "code",
   "execution_count": 10,
   "metadata": {},
   "outputs": [
    {
     "name": "stdout",
     "output_type": "stream",
     "text": [
      "gain: 0.916666666667\n"
     ]
    }
   ],
   "source": [
    "print \"gain:\", g_c / (g_l + g_c)"
   ]
  },
  {
   "cell_type": "markdown",
   "metadata": {},
   "source": [
    "The linear function of firing rate is only linear when there is no refractory period. Here we compare the linear approximation of the firing rate to the more detailed firing rate computation. "
   ]
  },
  {
   "cell_type": "code",
   "execution_count": 14,
   "metadata": {},
   "outputs": [
    {
     "name": "stdout",
     "output_type": "stream",
     "text": [
      "figures/ifr-refractory-Vr=-62-Vt=-58-n180814\n"
     ]
    },
    {
     "data": {
      "image/png": "[encoded data removed]",
      "text/plain": [
       "<matplotlib.figure.Figure at 0x7f5102bf1f50>"
      ]
     },
     "metadata": {},
     "output_type": "display_data"
    }
   ],
   "source": [
    "figure(figsize=(4,3.5))\n",
    "\n",
    "Ish = np.linspace(0, 0.1, 500) * nA\n",
    "\n",
    "test_tref = np.linspace(0, 100, 10) * ms\n",
    "\n",
    "cols = get_cmap('Oranges_r', len(test_tref)+10)\n",
    "\n",
    "for itref,tref in enumerate(test_tref):\n",
    "\n",
    "    t_spike = C_Ax / g_l * np.log((Ish + g_l*(E_l - V_r))/(Ish + g_l*(E_l - V_t))) + tref\n",
    "    \n",
    "    if itref == 0 or itref==(len(test_tref)-1):\n",
    "        plot(Ish/nA, 1/t_spike / second, lw=2, c=cols(itref), label=r\"$%i \\ ms$\"%(tref/ms))\n",
    "    else:\n",
    "        plot(Ish/nA, 1/t_spike / second, lw=2, c=cols(itref))\n",
    "\n",
    "    \n",
    "m_ifr = 1 / (C_Ax * (V_t - V_r))\n",
    "b = -g_l * (V_t + V_r - 2 * E_l) / (2*C_Ax * (V_t - V_r))\n",
    "\n",
    "plot(Ish/nA, (m_ifr * Ish + b), ':k', lw=2)\n",
    "\n",
    "xlim([0, Ish[-1]/nA])\n",
    "\n",
    "legend(loc='upper left', fontsize=16)\n",
    "\n",
    "xlabel('Input Current (nA)')\n",
    "ylabel('Firing Rate')\n",
    "\n",
    "plt.tight_layout()\n",
    "\n",
    "fname = ('figures/ifr-refractory-Vr=' + str(int(V_r/mV)) + '-Vt=' + str(int(V_t/mV))\n",
    "          + '-n' + time.strftime('%y%m%d'))\n",
    "\n",
    "print fname\n",
    "savefig(fname + '.png', format='png')\n",
    "savefig(fname + '.eps', format='eps')  "
   ]
  },
  {
   "cell_type": "markdown",
   "metadata": {},
   "source": [
    "The firing rates with a refractory period then saturate to $IFR = 1/\\tau_{ref}$."
   ]
  },
  {
   "cell_type": "markdown",
   "metadata": {},
   "source": [
    "# Simulations compared to theory"
   ]
  },
  {
   "cell_type": "markdown",
   "metadata": {},
   "source": [
    "Now, we are going to simulate the network and compute the firing rate for a steady current injection. This should be comparable to the theory above, and the firing rate should approach the line of the theory."
   ]
  },
  {
   "cell_type": "code",
   "execution_count": 6,
   "metadata": {},
   "outputs": [],
   "source": [
    "N_s = 50\n",
    "tref=0*ms\n",
    "G_post = NeuronGroup(N_s, model=eqs_1, threshold='V>V_t', reset='V=V_r', refractory=tref)\n",
    "\n",
    "G_post.V = E_l * ones(N_s)\n",
    "#G_post.Vs = E_l * ones(N_s)\n",
    "G_post.I_ext = np.linspace(0.0, 0.2, N_s) * nA\n",
    "\n",
    "SpM_post = SpikeMonitor(G_post)\n",
    "\n",
    "StM_post = StateMonitor(G_post, True, record=True)\n",
    "\n",
    "ifr_net = Network()\n",
    "ifr_net.add(G_post)\n",
    "ifr_net.add(SpM_post)\n",
    "ifr_net.add(StM_post)\n",
    "\n",
    "ifr_net.store('init')"
   ]
  },
  {
   "cell_type": "code",
   "execution_count": 7,
   "metadata": {},
   "outputs": [
    {
     "name": "stderr",
     "output_type": "stream",
     "text": [
      "INFO       No numerical integration method specified for group 'neurongroup', using method 'linear' (took 0.15s). [brian2.stateupdaters.base.method_choice]\n"
     ]
    },
    {
     "name": "stdout",
     "output_type": "stream",
     "text": [
      "elapsed 1.25455594063\n"
     ]
    }
   ],
   "source": [
    "\n",
    "run_time = 1.0 * second\n",
    "ifr_net.restore('init')\n",
    "tst = time.time()\n",
    "ifr_net.run(run_time)\n",
    "print \"elapsed\", time.time() - tst"
   ]
  },
  {
   "cell_type": "code",
   "execution_count": 8,
   "metadata": {},
   "outputs": [
    {
     "data": {
      "text/plain": [
       "<matplotlib.text.Text at 0x7ffb182f6950>"
      ]
     },
     "execution_count": 8,
     "metadata": {},
     "output_type": "execute_result"
    },
    {
     "data": {
      "image/png": "[encoded data removed]",
      "text/plain": [
       "<matplotlib.figure.Figure at 0x7ffb186dea50>"
      ]
     },
     "metadata": {},
     "output_type": "display_data"
    }
   ],
   "source": [
    "\n",
    "post_spikes = SpM_post.spike_trains()\n",
    "ifr = np.zeros(N_s)\n",
    "\n",
    "figure(figsize=(3.5,3))\n",
    "\n",
    "for i in range(len(post_spikes)):\n",
    "    plot(post_spikes[i] / second, i * ones(len(post_spikes[i])), 'xk')\n",
    "    \n",
    "    if len(post_spikes[i]) > 1:\n",
    "        ifr[i] = 1.0 / np.mean(np.diff(post_spikes[i]))\n",
    "    \n",
    "ylim([0-0.5, N_s-0.5])\n",
    "xlim([0, run_time/second])\n",
    "yticks([])\n",
    "xlabel('Time (s)')\n",
    "ylabel('Neuron')"
   ]
  },
  {
   "cell_type": "code",
   "execution_count": 9,
   "metadata": {},
   "outputs": [
    {
     "data": {
      "text/plain": [
       "(0, 0.2)"
      ]
     },
     "execution_count": 9,
     "metadata": {},
     "output_type": "execute_result"
    },
    {
     "data": {
      "image/png": "[encoded data removed]",
      "text/plain": [
       "<matplotlib.figure.Figure at 0x7ffacf32f650>"
      ]
     },
     "metadata": {},
     "output_type": "display_data"
    }
   ],
   "source": [
    "figure(figsize=(3.5,3))\n",
    "\n",
    "Id = G_post.I_ext\n",
    "\n",
    "plot(Id / nA, ifr / second, 'k', lw=2)\n",
    "\n",
    "gain = g_c / (g_l + g_c)\n",
    "\n",
    "Ia = Id # for 1 compartment \n",
    "#Ia =  Id * gain # for 2 compartment\n",
    "\n",
    "t_spike = C_Ax / g_l * np.log((Ia+g_l*(E_l - V_r))/(Ia+g_l*(E_l - V_t))) + tref\n",
    "\n",
    "plot(Id/nA, 1/t_spike / second, lw=2, c='r')\n",
    "\n",
    "\n",
    "#Ish = np.linspace(0, G_post.I_ext[-1]/nA, 500) * nA\n",
    "\n",
    "m_ifr = 1 / (C_Ax * (V_t - V_r))\n",
    "b = -g_l * (V_t + V_r - 2 * E_l) / (2*C_Ax * (V_t - V_r))\n",
    "\n",
    "plot(Id/nA, (m_ifr * Ia + b), ':k', lw=2)\n",
    "\n",
    "\n",
    "xlabel('Input Current (nA)')\n",
    "ylabel('Firing Rate (Hz)')\n",
    "xlim([0, Id[-1]/nA])\n"
   ]
  },
  {
   "cell_type": "code",
   "execution_count": 10,
   "metadata": {},
   "outputs": [],
   "source": [
    "N_s = 50\n",
    "tref=20*ms\n",
    "G_post = NeuronGroup(N_s, model=eqs_1, threshold='V>V_t', reset='V=V_r', refractory=tref)\n",
    "\n",
    "G_post.V = E_l * ones(N_s)\n",
    "#G_post.Vs = E_l * ones(N_s)\n",
    "G_post.I_ext = np.linspace(0.0, 0.2, N_s) * nA\n",
    "\n",
    "SpM_post = SpikeMonitor(G_post)\n",
    "\n",
    "StM_post = StateMonitor(G_post, True, record=True)\n",
    "\n",
    "ifr_net = Network()\n",
    "ifr_net.add(G_post)\n",
    "ifr_net.add(SpM_post)\n",
    "ifr_net.add(StM_post)\n",
    "\n",
    "ifr_net.store('init')"
   ]
  },
  {
   "cell_type": "code",
   "execution_count": 11,
   "metadata": {},
   "outputs": [
    {
     "name": "stderr",
     "output_type": "stream",
     "text": [
      "INFO       No numerical integration method specified for group 'neurongroup_1', using method 'linear' (took 0.06s). [brian2.stateupdaters.base.method_choice]\n"
     ]
    },
    {
     "name": "stdout",
     "output_type": "stream",
     "text": [
      "elapsed 1.02112698555\n"
     ]
    }
   ],
   "source": [
    "\n",
    "run_time = 1.0 * second\n",
    "ifr_net.restore('init')\n",
    "tst = time.time()\n",
    "ifr_net.run(run_time)\n",
    "print \"elapsed\", time.time() - tst"
   ]
  },
  {
   "cell_type": "code",
   "execution_count": 12,
   "metadata": {},
   "outputs": [
    {
     "data": {
      "text/plain": [
       "<matplotlib.text.Text at 0x7ffb18530f10>"
      ]
     },
     "execution_count": 12,
     "metadata": {},
     "output_type": "execute_result"
    },
    {
     "data": {
      "image/png": "[encoded data removed]",
      "text/plain": [
       "<matplotlib.figure.Figure at 0x7ffb185b8150>"
      ]
     },
     "metadata": {},
     "output_type": "display_data"
    }
   ],
   "source": [
    "\n",
    "post_spikes = SpM_post.spike_trains()\n",
    "ifr = np.zeros(N_s)\n",
    "\n",
    "figure(figsize=(3.5,3))\n",
    "\n",
    "for i in range(len(post_spikes)):\n",
    "    plot(post_spikes[i] / second, i * ones(len(post_spikes[i])), 'xk')\n",
    "    \n",
    "    if len(post_spikes[i]) > 1:\n",
    "        ifr[i] = 1.0 / np.mean(np.diff(post_spikes[i]))\n",
    "    \n",
    "ylim([0-0.5, N_s-0.5])\n",
    "xlim([0, run_time/second])\n",
    "yticks([])\n",
    "xlabel('Time (s)')\n",
    "ylabel('Neuron')"
   ]
  },
  {
   "cell_type": "code",
   "execution_count": 13,
   "metadata": {},
   "outputs": [
    {
     "data": {
      "text/plain": [
       "(0, 0.2)"
      ]
     },
     "execution_count": 13,
     "metadata": {},
     "output_type": "execute_result"
    },
    {
     "data": {
      "image/png": "[encoded data removed]",
      "text/plain": [
       "<matplotlib.figure.Figure at 0x7fface734e50>"
      ]
     },
     "metadata": {},
     "output_type": "display_data"
    }
   ],
   "source": [
    "figure(figsize=(3.5,3))\n",
    "\n",
    "Id = G_post.I_ext\n",
    "\n",
    "plot(Id / nA, ifr / second, 'k', lw=2)\n",
    "\n",
    "gain = g_c / (g_l + g_c)\n",
    "\n",
    "Ia = Id # for 1 compartment \n",
    "#Ia =  Id * gain # for 2 compartment\n",
    "\n",
    "t_spike = C_Ax / g_l * np.log((Ia+g_l*(E_l - V_r))/(Ia+g_l*(E_l - V_t))) + tref\n",
    "\n",
    "plot(Id/nA, 1/t_spike / second, lw=2, c='r')\n",
    "\n",
    "\n",
    "#Ish = np.linspace(0, G_post.I_ext[-1]/nA, 500) * nA\n",
    "\n",
    "m_ifr = 1 / (C_Ax * (V_t - V_r))\n",
    "b = -g_l * (V_t + V_r - 2 * E_l) / (2*C_Ax * (V_t - V_r))\n",
    "\n",
    "plot(Id/nA, (m_ifr * Ia + b), ':k', lw=2)\n",
    "\n",
    "\n",
    "xlabel('Input Current (nA)')\n",
    "ylabel('Firing Rate (Hz)')\n",
    "xlim([0, Id[-1]/nA])\n"
   ]
  },
  {
   "cell_type": "markdown",
   "metadata": {},
   "source": [
    "# Delay mechanisms for spiking FHRR\n",
    "\n",
    "With the current to spike rate under control, we can now implement the synaptic delay mechanisms and balanced inhibition to create the basis of the spiking FHRR code. "
   ]
  },
  {
   "cell_type": "code",
   "execution_count": 14,
   "metadata": {
    "collapsed": true
   },
   "outputs": [],
   "source": [
    "s_delay = 0\n",
    "s_c_freq = (2*np.pi* (5.0)) / second\n",
    "s_c_damp = 15 / second\n",
    "\n",
    "s_delay_model = '''\n",
    "mag : 1\n",
    "I_ext_post = sx * nA : amp (summed)\n",
    "dsx/dt = -s_c_freq * sx : 1 (clock-driven)\n",
    "'''\n",
    "s_delay_inh = '''\n",
    "mag : 1\n",
    "I_rec_post = sx * nA : amp (summed)\n",
    "dsx/dt = -0.5*s_c_freq * sx : 1 (clock-driven)\n",
    "'''\n",
    "s_delay_on_pre = '''\n",
    "sx += mag\n",
    "'''"
   ]
  },
  {
   "cell_type": "code",
   "execution_count": 15,
   "metadata": {},
   "outputs": [],
   "source": [
    "syn_delay = 100*ms\n",
    "phase_shift = syn_delay * s_c_freq\n",
    "#z_phase = np.cos(phase_shift) + 1.0j * np.sin(phase_shift)\n",
    "#pmat = pmat * z_phase"
   ]
  },
  {
   "cell_type": "code",
   "execution_count": 16,
   "metadata": {},
   "outputs": [],
   "source": [
    "N_s = 4\n",
    "N_i = 1\n",
    "\n",
    "spike_indices = [0, 1, 2, 3]\n",
    "spike_times = [250*ms, 200*ms, 150*ms, 100*ms]; time_tag = 'reverse'\n",
    "\n",
    "# spike_indices = [0, 1, 2, 3, 0, 1, 2, 3]\n",
    "# spike_times = [250*ms, 200*ms, 150*ms, 100*ms,\n",
    "#                450*ms, 400*ms, 350*ms, 300*ms]; time_tag = 'double'\n",
    "\n",
    "# spike_indices = [0, 1, 2, 3, 0, 1, 2, 3, 0, 1, 2, 3]\n",
    "# spike_times = [250*ms, 200*ms, 150*ms, 100*ms,\n",
    "#                450*ms, 400*ms, 350*ms, 300*ms,\n",
    "#                650*ms, 600*ms, 550*ms, 500*ms,]; time_tag = 'triple'\n",
    "\n",
    "#spike_times = [100*ms, 125*ms, 150*ms]; time_tag = 'forward'\n",
    "\n",
    "#spike_indices = [0]\n",
    "#spike_times = [125*ms]; time_tag = 'sync'\n",
    "\n",
    "\n",
    "#G_pre = NeuronGroup(N_pre, model=eqs_2, threshold='V>V_t', reset='V=V_r', refractory=0*ms)\n",
    "G_pre = SpikeGeneratorGroup(N_s, spike_indices, spike_times)\n",
    "G_inh = NeuronGroup(N_i, model=eqs_2_in, threshold='V>V_t', reset='V=V_r', refractory=0*ms)\n",
    "G_post = NeuronGroup(N_s, model=eqs_2, threshold='V>V_t', reset='V=V_r', refractory=100*ms)\n",
    "\n",
    "G_post.V = E_l * ones(N_s)\n",
    "G_post.Vs = E_l * ones(N_s)\n",
    "G_post.I_ext = 0\n",
    "\n",
    "G_inh.V = E_l * ones(N_i)\n",
    "G_inh.Vs = E_l * ones(N_i)\n",
    "G_inh.I_ext = 0.0 * nA\n",
    "\n",
    "S_pre_post = Synapses(G_pre, G_post, s_delay_model, on_pre=s_delay_on_pre, method='euler')\n",
    "S_pre_inh = Synapses(G_pre, G_inh, s_delay_inh, on_pre=s_delay_on_pre, method='euler')\n",
    "S_inh_post = Synapses(G_inh, G_post, s_delay_inh, on_pre=s_delay_on_pre, method='euler')\n",
    "\n",
    "#S_pre_post.connect(j='i')\n",
    "S_pre_post.connect()\n",
    "S_pre_post.mag = 0.3\n",
    "\n",
    "sync_phase = -np.pi/4\n",
    "\n",
    "delay_vec =  1./s_c_freq * (np.array(\n",
    "                   [np.pi, np.pi/2 + sync_phase, np.pi,   np.pi/2,\n",
    "                    np.pi, np.pi + sync_phase,    np.pi/2, np.pi/2,\n",
    "                    np.pi, 3*np.pi/2 + sync_phase, 2*np.pi,       np.pi/2,\n",
    "                    np.pi, 2*np.pi + sync_phase,        2*np.pi,       np.pi/2]))\n",
    "\n",
    "S_pre_post.delay = delay_vec + 2*np.pi/4/s_c_freq\n",
    "\n",
    "S_pre_inh.connect()\n",
    "S_pre_inh.mag = 0.3\n",
    "S_pre_inh.delay = np.pi/2/s_c_freq\n",
    "\n",
    "S_inh_post.connect()\n",
    "S_inh_post.mag = -0.033\n",
    "\n",
    "#S_pre_post.sx = 1\n",
    "#S_pre_post.sv = 0\n",
    "\n",
    "#S_pre_post.delay=syn_delay\n",
    "\n",
    "#SpM_pre = SpikeMonitor(G_pre)\n",
    "SpM_post = SpikeMonitor(G_post)\n",
    "SpM_inh = SpikeMonitor(G_inh)\n",
    "StM_S = StateMonitor(S_pre_post, True, record=True)\n",
    "\n",
    "#StM_pre = StateMonitor(G_pre, True, record=True)\n",
    "StM_post = StateMonitor(G_post, True, record=True)"
   ]
  },
  {
   "cell_type": "code",
   "execution_count": 17,
   "metadata": {},
   "outputs": [],
   "source": [
    "envelope_net = Network()\n",
    "envelope_net.add(G_pre)\n",
    "envelope_net.add(G_inh)\n",
    "envelope_net.add(G_post)\n",
    "\n",
    "envelope_net.add(S_pre_post)\n",
    "envelope_net.add(S_pre_inh)\n",
    "envelope_net.add(S_inh_post)\n",
    "\n",
    "#complex_net.add(SpM_pre)\n",
    "envelope_net.add(SpM_post)\n",
    "envelope_net.add(SpM_inh)\n",
    "envelope_net.add(StM_post)\n",
    "\n",
    "envelope_net.add(StM_S)\n",
    "\n",
    "envelope_net.store('init')"
   ]
  },
  {
   "cell_type": "code",
   "execution_count": 18,
   "metadata": {},
   "outputs": [
    {
     "name": "stderr",
     "output_type": "stream",
     "text": [
      "INFO       No numerical integration method specified for group 'neurongroup_2', using method 'euler' (took 0.04s, trying other methods took 0.10s). [brian2.stateupdaters.base.method_choice]\n",
      "INFO       No numerical integration method specified for group 'neurongroup', using method 'euler' (took 0.03s, trying other methods took 0.09s). [brian2.stateupdaters.base.method_choice]\n"
     ]
    },
    {
     "name": "stdout",
     "output_type": "stream",
     "text": [
      "elapsed 2.65714788437\n"
     ]
    }
   ],
   "source": [
    "run_time = 0.8 * second\n",
    "#run_time = 1.0 * second\n",
    "envelope_net.restore('init')\n",
    "tst = time.time()\n",
    "envelope_net.run(run_time)\n",
    "print \"elapsed\", time.time() - tst"
   ]
  },
  {
   "cell_type": "code",
   "execution_count": 19,
   "metadata": {},
   "outputs": [],
   "source": [
    "inh_spikes = SpM_inh.spike_trains()\n"
   ]
  },
  {
   "cell_type": "code",
   "execution_count": 20,
   "metadata": {},
   "outputs": [
    {
     "name": "stdout",
     "output_type": "stream",
     "text": [
      "figures/syn_dyn-demo2m-Vs-step-reverse-N=4-w=5-ll=15-n180725\n"
     ]
    },
    {
     "data": {
      "image/png": "[encoded data removed]",
      "text/plain": [
       "<matplotlib.figure.Figure at 0x7ffacb38d710>"
      ]
     },
     "metadata": {},
     "output_type": "display_data"
    }
   ],
   "source": [
    "figure(figsize=(5,7))\n",
    "\n",
    "tt_st = 0.08\n",
    "\n",
    "sp_tr = SpM_post.spike_trains()\n",
    "\n",
    "for iN, Ni in enumerate([0,1]):\n",
    "    sii = np.arange(Ni, N_s**2, N_s)\n",
    "\n",
    "    subplot(4, 2, iN+1)\n",
    "    plot(spike_times / second, spike_indices,'xk')\n",
    "    plot(inh_spikes[0]/second, len(inh_spikes[0])*[4], 'xr')\n",
    "    xticks([])\n",
    "    #yticks(arange(N_s))\n",
    "    yticks([])\n",
    "    xlim([0, run_time/second])\n",
    "    ylim([-1, N_s+1])\n",
    "    ylabel('Spikes')\n",
    "    \n",
    "    for tti in range(5):\n",
    "        plot([tt_st+0.2*tti, tt_st+0.2*tti], [-1, N_s+1], ':k')\n",
    "\n",
    "\n",
    "    subplot(4, 2, iN+3)\n",
    "    plot(StM_S.t / second, StM_S.sx[sii, :].T)\n",
    "    xlim([0,  run_time/second])\n",
    "    xticks([])\n",
    "    yticks([ 0, .3])\n",
    "    ylim([-.05, .35])\n",
    "    ylabel('$s_x^{%ij}$'%Ni, rotation=0)\n",
    "    \n",
    "    for tti in range(5):\n",
    "        plot([tt_st+0.2*tti, tt_st+0.2*tti], [-.1, .5], ':k')\n",
    "        \n",
    "        \n",
    "    subplot(4, 2, iN+5)\n",
    "    plot(StM_post.t / second, StM_post.I_ext[Ni, :].T/nA, 'g', lw=2)\n",
    "    plot(StM_post.t / second, StM_post.I_rec[Ni, :].T/nA, 'r', lw=2)     \n",
    "    plot(StM_post.t / second, StM_post.I_ext[Ni, :].T/nA + StM_post.I_rec[Ni, :].T/nA, 'k', lw=2)\n",
    "\n",
    "    xlim([0,  run_time/second])\n",
    "    #xticks(linspace(0, run_time/second, 5))\n",
    "    ylim([-.15, 1.1])\n",
    "    yticks([ 0,   1])\n",
    "    #xlabel('Time (T)')\n",
    "    ylabel('$I_s^{%i}$'%Ni, rotation=0)\n",
    "    xticks([])\n",
    "    \n",
    "    for tti in range(5):\n",
    "        plot([tt_st+0.2*tti, tt_st+0.2*tti], [-.15, 1.1], ':k')\n",
    "    \n",
    "\n",
    "    #xticks(arange(tt_st+0.1, 0.7, 0.2), ['$0$', '$1$', '$2$', '$3$']);\n",
    "\n",
    "    \n",
    "    subplot(4, 2, iN+7)\n",
    "    plot(StM_post.t / second, StM_post.Vs[Ni, :].T/mV, 'k', lw=2)\n",
    "    #plot(StM_post.t / second, StM_post.V[Ni, :].T/mV, 'k', lw=2)\n",
    "    \n",
    "    plot(sp_tr[Ni], len(sp_tr[Ni]) *[-58], 'xk', mew=2)\n",
    "\n",
    "    xlim([0,  run_time/second])\n",
    "    #xticks(linspace(0, run_time/second, 3))\n",
    "    xticks(arange(tt_st+0.1, 0.7, 0.2), ['$0$', '$1$', '$2$', '$3$']);\n",
    "\n",
    "    ylim([-65, -55])\n",
    "    yticks([-65,-55])\n",
    "    xlabel('Time (T)')\n",
    "    ylabel('$V_s^{%i}$'%Ni, rotation=0)\n",
    "\n",
    "    \n",
    "    for tti in range(5):\n",
    "        plot([tt_st+0.2*tti, tt_st+0.2*tti], [-100, -40], ':k')\n",
    "    \n",
    "\n",
    "\n",
    "    \n",
    "plt.tight_layout()\n",
    "\n",
    "fname = ('figures/syn_dyn-demo2m-Vs-step-' + time_tag + '-'\n",
    "         + 'N=' + str(N_s) + '-w=' + str(int(s_c_freq/2/np.pi)) + '-ll=' + str(int(s_c_damp))\n",
    "         + '-n' + time.strftime('%y%m%d'))\n",
    "\n",
    "print fname\n",
    "savefig(fname + '.png', format='png')\n",
    "savefig(fname + '.eps', format='eps')  "
   ]
  },
  {
   "cell_type": "markdown",
   "metadata": {},
   "source": [
    "# Gain control\n",
    "\n",
    "Finally, a potentially important mechanism is to have direct gain modulation. This is tricky in spiking neurons. However, it can be done with shunting inhibition, but only in a two-compartment model neuron. \n",
    "\n",
    "This requires a conductance-based synapse."
   ]
  },
  {
   "cell_type": "code",
   "execution_count": 21,
   "metadata": {},
   "outputs": [
    {
     "name": "stderr",
     "output_type": "stream",
     "text": [
      "INFO       No numerical integration method specified for group 'neurongroup_3', using method 'euler' (took 0.02s, trying other methods took 0.14s). [brian2.stateupdaters.base.method_choice]\n",
      "INFO       No numerical integration method specified for group 'neurongroup_1', using method 'euler' (took 0.02s, trying other methods took 0.03s). [brian2.stateupdaters.base.method_choice]\n"
     ]
    },
    {
     "name": "stdout",
     "output_type": "stream",
     "text": [
      "elapsed 1.35653400421\n"
     ]
    },
    {
     "name": "stderr",
     "output_type": "stream",
     "text": [
      "INFO       No numerical integration method specified for group 'neurongroup_3', using method 'euler' (took 0.02s, trying other methods took 0.03s). [brian2.stateupdaters.base.method_choice]\n"
     ]
    },
    {
     "name": "stdout",
     "output_type": "stream",
     "text": [
      "elapsed 1.257999897\n"
     ]
    },
    {
     "name": "stderr",
     "output_type": "stream",
     "text": [
      "INFO       No numerical integration method specified for group 'neurongroup_1', using method 'euler' (took 0.02s, trying other methods took 0.03s). [brian2.stateupdaters.base.method_choice]\n"
     ]
    },
    {
     "name": "stdout",
     "output_type": "stream",
     "text": [
      "elapsed 1.20347881317\n",
      "elapsed 1.19171214104\n"
     ]
    }
   ],
   "source": [
    "N_s = 50\n",
    "\n",
    "test_gi = np.array([0, 25, 50, 100])\n",
    "\n",
    "I_ext_all = np.linspace(0.0, 0.5, N_s)\n",
    "post_spikes_all = []\n",
    "\n",
    "for i, giv in enumerate(test_gi):\n",
    "    G_post = NeuronGroup(N_s, model=eqs_2, threshold='V>V_t', reset='V=V_r', refractory=0*ms)\n",
    "\n",
    "    G_post.V = E_l * ones(N_s)\n",
    "    G_post.Vs = E_l * ones(N_s)\n",
    "    G_post.I_ext = I_ext_all * nA\n",
    "    G_post.gi = giv * ones(N_s) * nS\n",
    "\n",
    "    SpM_post = SpikeMonitor(G_post)\n",
    "\n",
    "    StM_post = StateMonitor(G_post, True, record=True)\n",
    "\n",
    "    ifr_net = Network()\n",
    "    ifr_net.add(G_post)\n",
    "    ifr_net.add(SpM_post)\n",
    "    ifr_net.add(StM_post)\n",
    "\n",
    "    ifr_net.store('init')\n",
    "    \n",
    "    run_time = 1.0 * second\n",
    "    ifr_net.restore('init')\n",
    "    tst = time.time()\n",
    "    ifr_net.run(run_time)\n",
    "    print \"elapsed\", time.time() - tst\n",
    "    \n",
    "    post_spikes = SpM_post.spike_trains()\n",
    "\n",
    "    post_spikes_all.append(post_spikes)"
   ]
  },
  {
   "cell_type": "code",
   "execution_count": 22,
   "metadata": {},
   "outputs": [],
   "source": [
    "ifr = np.zeros((N_s, len(test_gi)))\n",
    "\n",
    "for ps in range(len(post_spikes_all)):\n",
    "    post_spikes = post_spikes_all[ps]\n",
    "    for i in range(len(post_spikes)):\n",
    "        if len(post_spikes[i]) > 1:\n",
    "            ifr[i, ps] = 1.0 / np.mean(np.diff(post_spikes[i]))"
   ]
  },
  {
   "cell_type": "code",
   "execution_count": 23,
   "metadata": {},
   "outputs": [
    {
     "data": {
      "text/plain": [
       "(0, 0.5)"
      ]
     },
     "execution_count": 23,
     "metadata": {},
     "output_type": "execute_result"
    },
    {
     "data": {
      "image/png": "[encoded data removed]",
      "text/plain": [
       "<matplotlib.figure.Figure at 0x7ffacaec0ed0>"
      ]
     },
     "metadata": {},
     "output_type": "display_data"
    }
   ],
   "source": [
    "figure(figsize=(3.5,3))\n",
    "\n",
    "cols = get_cmap('Oranges_r', len(post_spikes_all)+5)\n",
    "\n",
    "for ps in range(len(post_spikes_all)):\n",
    "\n",
    "    plot(I_ext_all, ifr[:, ps] / second, c=cols(ps), lw=2)\n",
    "\n",
    "\n",
    "    Ish = np.linspace(0, I_ext_all[-1], 500) * nA\n",
    "    gain = g_c / (g_l + g_c + test_gi[ps] * nS)\n",
    "    m_ifr = 1 / (C_Ax * (V_t - V_r))\n",
    "    b = -g_l * (V_t + V_r - 2 * E_l) / (2*C_Ax * (V_t - V_r))\n",
    "\n",
    "    plot(Ish/nA, (gain * m_ifr * Ish + b), ':', c=cols(ps), lw=2)\n",
    "\n",
    "\n",
    "xlabel('Input Current (nA)')\n",
    "ylabel('Firing Rate (Hz)')\n",
    "xlim([0, Ish[-1]/nA])"
   ]
  },
  {
   "cell_type": "code",
   "execution_count": null,
   "metadata": {
    "collapsed": true
   },
   "outputs": [],
   "source": []
  }
 ],
 "metadata": {
  "kernelspec": {
   "display_name": "Python 3 (ipykernel)",
   "language": "python",
   "name": "python3"
  },
  "language_info": {
   "codemirror_mode": {
    "name": "ipython",
    "version": 3
   },
   "file_extension": ".py",
   "mimetype": "text/x-python",
   "name": "python",
   "nbconvert_exporter": "python",
   "pygments_lexer": "ipython3",
   "version": "3.9.7"
  }
 },
 "nbformat": 4,
 "nbformat_minor": 1
}
