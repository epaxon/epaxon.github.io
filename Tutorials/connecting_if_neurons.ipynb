{
 "cells": [
  {
   "cell_type": "markdown",
   "id": "2d39acd8",
   "metadata": {},
   "source": [
    "# Connecting IFR theory to connectionism\n",
    "\n",
    "From the IFR experiments, we can see how the IFR is governed as a function of input current. We derived a formula for the IFR, which assumes that the current input into the neuron is constant. However, this approximation will generally hold when the timeconstant of the neuron is fast compared to the changes of the input. \n",
    "\n",
    "## Computing dot-products with IF neurons\n",
    "\n",
    "It is important to link the output spiking rate to input currents, because this allows us to understand the neuron dynamics from connectionism and deep learning theory. In deep learning, we usually describe individual neurons as performing a weighted sum of inputs, followed by a non-linear transfer function $\\sigma$:\n",
    "\n",
    "$$\n",
    "r_i = \\sigma ( \\sum_j W_{ij} r_j + b_i ) \n",
    "$$\n",
    "\n",
    "It is extremely important that we considered the input to the IFR as the current in the eletronic neuron model. This is because in electronic circuits, currents add together. In connectionist theory, we are often computing vector-matrix products, which corresponds to a weighted summation of pre-synaptic neural activity. The summation of a dot product is homologous to the summation of currents in the neuron.\n",
    "\n",
    "We can then understand the IFR as equivalent to a non-linear transfer function as used in deep learning networks. When the refractory period is 0, then the IFR is effectively a rectified linear function. With a refractory period, then the IFR becomes saturated, and similar to sigmoid transfer functions.\n",
    "\n",
    "Taken together, there is quite predictable behavior from the integration dynamics of integrate-and-fire neurons that can be described theoretically. Under the assumptions that the input dynamics are slow compared to the spiking frequencies, then we can use IFR theory to build networks of spiking neurons that can compute a matrix-vector product followed by a non-linear transfer function. \n",
    "\n",
    "So next lets discuss how we design synaptic connections when using integrate-and-fire neurons. Just like when we use integrate-and-fire dynamics as a simplification of spiking neurons in neuroscience, we consider a simplified model of synaptic dyanmics. \n",
    "\n",
    "\n"
   ]
  },
  {
   "cell_type": "code",
   "execution_count": 1,
   "id": "803ef4cd",
   "metadata": {},
   "outputs": [],
   "source": [
    "from pylab import *\n",
    "from brian2 import *\n",
    "import time"
   ]
  },
  {
   "cell_type": "code",
   "execution_count": 2,
   "id": "7f9fff1b",
   "metadata": {},
   "outputs": [],
   "source": [
    "%matplotlib inline\n",
    "\n",
    "plt.rcParams.update({'font.size': 18})\n",
    "plt.rcParams.update({'font.family': 'serif', \n",
    "                     'font.serif':['Computer Modern']})"
   ]
  },
  {
   "cell_type": "code",
   "execution_count": 3,
   "id": "1d7ac039",
   "metadata": {},
   "outputs": [],
   "source": [
    "\n",
    "# Neuron parameters\n",
    "C_Ax = 2.0 * nF # Capacitance \n",
    "g_l =  5.0 * nS # leak conductance\n",
    "\n",
    "E_l = -60.0 * mV # Resting potential\n",
    "V_t = -58.0 * mV # Threshold\n",
    "V_r = -62.0 * mV # Reset\n",
    "\n",
    "tref=0*ms # refractory period\n",
    "\n",
    "eqs_if = Equations('''\n",
    "    dV/dt = (g_l * (E_l - V) + I_ext + I_syn) / C_Ax : volt (unless refractory)\n",
    "    I_ext : amp\n",
    "    I_syn : amp\n",
    "    ''')\n",
    "\n",
    "\n",
    "eqs_s_var = '''\n",
    "w : 1\n",
    "'''\n",
    "\n",
    "tau_s = 100 * ms\n",
    "\n",
    "s_eqs = '''\n",
    "w : 1\n",
    "I_syn_post = sx * nA : amp (summed)\n",
    "dsx/dt = - sx / tau_s : 1 (clock-driven)\n",
    "'''\n",
    "\n",
    "s_on_pre = '''\n",
    "sx += w\n",
    "'''\n",
    "\n"
   ]
  },
  {
   "cell_type": "code",
   "execution_count": null,
   "id": "32b9f70f",
   "metadata": {},
   "outputs": [],
   "source": []
  }
 ],
 "metadata": {
  "kernelspec": {
   "display_name": "Python 3 (ipykernel)",
   "language": "python",
   "name": "python3"
  },
  "language_info": {
   "codemirror_mode": {
    "name": "ipython",
    "version": 3
   },
   "file_extension": ".py",
   "mimetype": "text/x-python",
   "name": "python",
   "nbconvert_exporter": "python",
   "pygments_lexer": "ipython3",
   "version": "3.9.7"
  }
 },
 "nbformat": 4,
 "nbformat_minor": 5
}
