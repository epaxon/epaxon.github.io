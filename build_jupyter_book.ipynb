{
 "cells": [
  {
   "cell_type": "code",
   "execution_count": 2,
   "metadata": {},
   "outputs": [],
   "source": [
    "import os"
   ]
  },
  {
   "cell_type": "code",
   "execution_count": 37,
   "metadata": {},
   "outputs": [
    {
     "name": "stdout",
     "output_type": "stream",
     "text": [
      "Running Jupyter-Book v0.12.1\n",
      "Source Folder: /Users/epfrady/Documents/Paxon/Research/GitHub/epaxon.github.io\n",
      "Config Path: /Users/epfrady/Documents/Paxon/Research/GitHub/epaxon.github.io/_config.yml\n",
      "Output Path: /Users/epfrady/Documents/Paxon/Research/GitHub/epaxon.github.io/_build/html\n",
      "\u001b[01mRunning Sphinx v4.3.2\u001b[39;49;00m\n",
      "\u001b[01mloading pickled environment... \u001b[39;49;00mdone\n",
      "\u001b[01mmyst v0.15.2:\u001b[39;49;00m MdParserConfig(renderer='sphinx', commonmark_only=False, enable_extensions=['colon_fence', 'dollarmath', 'linkify', 'substitution', 'tasklist'], dmath_allow_labels=True, dmath_allow_space=True, dmath_allow_digits=True, dmath_double_inline=False, update_mathjax=True, mathjax_classes='tex2jax_process|mathjax_process|math|output_area', disable_syntax=[], url_schemes=['mailto', 'http', 'https'], heading_anchors=None, heading_slug_func=None, html_meta=[], footnote_transition=True, substitutions=[], sub_delimiters=['{', '}'], words_per_minute=200)\n",
      "\u001b[01mbuilding [mo]: \u001b[39;49;00mtargets for 0 po files that are out of date\n",
      "\u001b[01mbuilding [html]: \u001b[39;49;00mtargets for 2 source files that are out of date\n",
      "\u001b[01mupdating environment: \u001b[39;49;00m0 added, 2 changed, 0 removed\n",
      "\u001b[01mreading sources... \u001b[39;49;00m[100%] \u001b[35mbuild_jupyter_book\u001b[39;49;00m                                   \n",
      "\u001b[01mlooking for now-outdated files... \u001b[39;49;00mnone found\n",
      "\u001b[01mpickling environment... \u001b[39;49;00mdone\n",
      "\u001b[01mchecking consistency... \u001b[39;49;00mdone\n",
      "\u001b[01mpreparing documents... \u001b[39;49;00mdone\n",
      "\u001b[01mwriting output... \u001b[39;49;00m[ 66%] \u001b[32mbuild_jupyter_book\u001b[39;49;00m                                    \r"
     ]
    },
    {
     "name": "stderr",
     "output_type": "stream",
     "text": [
      "\u001b[91m/Users/epfrady/Documents/Paxon/Research/GitHub/epaxon.github.io/README.md: WARNING: document isn't included in any toctree\u001b[39;49;00m\n",
      "\u001b[91m/Users/epfrady/Documents/Paxon/Research/GitHub/epaxon.github.io/blog/Stream of consciousness on consciousness -- 210201.ipynb: WARNING: document isn't included in any toctree\u001b[39;49;00m\n",
      "\u001b[91m/Users/epfrady/Documents/Paxon/Research/GitHub/epaxon.github.io/blog/Untitled.ipynb: WARNING: document isn't included in any toctree\u001b[39;49;00m\n",
      "\u001b[91m/Users/epfrady/Documents/Paxon/Research/GitHub/epaxon.github.io/blog/blog_causality_computation-210515.ipynb: WARNING: document isn't included in any toctree\u001b[39;49;00m\n",
      "\u001b[91m/Users/epfrady/Documents/Paxon/Research/GitHub/epaxon.github.io/blog/blog_consciousness_210201.ipynb: WARNING: document isn't included in any toctree\u001b[39;49;00m\n",
      "\u001b[91m/Users/epfrady/Documents/Paxon/Research/GitHub/epaxon.github.io/blog/blog_dims_projections_220107.ipynb: WARNING: document isn't included in any toctree\u001b[39;49;00m\n",
      "\u001b[91m/Users/epfrady/Documents/Paxon/Research/GitHub/epaxon.github.io/blog/blog_extrapolation_220105.ipynb: WARNING: document isn't included in any toctree\u001b[39;49;00m\n",
      "\u001b[91m/Users/epfrady/Documents/Paxon/Research/GitHub/epaxon.github.io/blog/blog_fundamental_pressures_210329.ipynb: WARNING: document isn't included in any toctree\u001b[39;49;00m\n",
      "\u001b[91m/Users/epfrady/Documents/Paxon/Research/GitHub/epaxon.github.io/blog/blog_quantum_arrow_210323.ipynb: WARNING: document isn't included in any toctree\u001b[39;49;00m\n",
      "\u001b[91m/Users/epfrady/Documents/Paxon/Research/GitHub/epaxon.github.io/blog/story-210322.ipynb: WARNING: document isn't included in any toctree\u001b[39;49;00m\n",
      "\u001b[91m/Users/epfrady/Documents/Paxon/Research/GitHub/epaxon.github.io/build_jupyter_book.ipynb: WARNING: document isn't included in any toctree\u001b[39;49;00m\n"
     ]
    },
    {
     "name": "stdout",
     "output_type": "stream",
     "text": [
      "\u001b[01mwriting output... \u001b[39;49;00m[100%] \u001b[32mindex\u001b[39;49;00m                                                 \r\n",
      "\u001b[01mgenerating indices... \u001b[39;49;00mgenindex done\n",
      "\u001b[01mwriting additional pages... \u001b[39;49;00msearch done\n",
      "\u001b[01mcopying images... \u001b[39;49;00m[100%] \u001b[33mprofile_pic.png\u001b[39;49;00m                                       \r\n",
      "\u001b[01mcopying static files... \u001b[39;49;00mdone\n",
      "\u001b[01mcopying extra files... \u001b[39;49;00mdone\n",
      "\u001b[01mdumping search index in English (code: en)... \u001b[39;49;00mdone\n",
      "\u001b[01mdumping object inventory... \u001b[39;49;00mdone\n",
      "\u001b[01mbuild succeeded, 11 warnings.\u001b[39;49;00m\n",
      "\n",
      "The HTML pages are in _build/html.\n",
      "\n",
      "\u001b[92m===============================================================================\u001b[0m\n",
      "\n",
      "Finished generating HTML for book.\n",
      "Your book's HTML pages are here:\n",
      "    _build/html/\n",
      "You can look at your book by opening this file in a browser:\n",
      "    _build/html/index.html\n",
      "Or paste this line directly into your browser bar:\n",
      "    file:///Users/epfrady/Documents/Paxon/Research/GitHub/epaxon.github.io/_build/html/index.html            \n",
      "\n",
      "\u001b[92m===============================================================================\u001b[0m\n",
      "\n"
     ]
    },
    {
     "data": {
      "text/plain": [
       "0"
      ]
     },
     "execution_count": 37,
     "metadata": {},
     "output_type": "execute_result"
    }
   ],
   "source": [
    "# build the notebook locally\n",
    "os.system('jupyter-book build ./')"
   ]
  },
  {
   "cell_type": "code",
   "execution_count": 32,
   "metadata": {},
   "outputs": [
    {
     "data": {
      "text/plain": [
       "'/Users/epfrady/Documents/Paxon/Research/GitHub/epaxon.github.io'"
      ]
     },
     "execution_count": 32,
     "metadata": {},
     "output_type": "execute_result"
    }
   ],
   "source": [
    "pwd"
   ]
  },
  {
   "cell_type": "code",
   "execution_count": 36,
   "metadata": {},
   "outputs": [
    {
     "name": "stderr",
     "output_type": "stream",
     "text": [
      "mkdir: _build/html/files: File exists\n"
     ]
    },
    {
     "data": {
      "text/plain": [
       "0"
      ]
     },
     "execution_count": 36,
     "metadata": {},
     "output_type": "execute_result"
    }
   ],
   "source": [
    "# copy extra files into html directory\n",
    "os.system('mkdir _build/html/files')\n",
    "os.system('cp files/* _build/html/files/')"
   ]
  },
  {
   "cell_type": "code",
   "execution_count": 40,
   "metadata": {},
   "outputs": [
    {
     "name": "stderr",
     "output_type": "stream",
     "text": [
      "To https://github.com/epaxon/epaxon.github.io.git\n",
      "   b2f6220..f7359d5  gh-pages -> gh-pages\n"
     ]
    },
    {
     "data": {
      "text/plain": [
       "0"
      ]
     },
     "execution_count": 40,
     "metadata": {},
     "output_type": "execute_result"
    }
   ],
   "source": [
    "# push the build to github\n",
    "os.system('ghp-import -n -p -f _build/html')\n"
   ]
  },
  {
   "cell_type": "code",
   "execution_count": null,
   "metadata": {},
   "outputs": [],
   "source": [
    "\n"
   ]
  }
 ],
 "metadata": {
  "kernelspec": {
   "display_name": "Python 3 (ipykernel)",
   "language": "python",
   "name": "python3"
  },
  "language_info": {
   "codemirror_mode": {
    "name": "ipython",
    "version": 3
   },
   "file_extension": ".py",
   "mimetype": "text/x-python",
   "name": "python",
   "nbconvert_exporter": "python",
   "pygments_lexer": "ipython3",
   "version": "3.9.7"
  }
 },
 "nbformat": 4,
 "nbformat_minor": 4
}
