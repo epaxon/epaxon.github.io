{
 "cells": [
  {
   "cell_type": "code",
   "execution_count": 1,
   "metadata": {},
   "outputs": [],
   "source": [
    "import os"
   ]
  },
  {
   "cell_type": "code",
   "execution_count": 2,
   "metadata": {},
   "outputs": [
    {
     "data": {
      "text/plain": [
       "'/Users/epfrady/Documents/Paxon/Research/GitHub/epaxon.github.io'"
      ]
     },
     "execution_count": 2,
     "metadata": {},
     "output_type": "execute_result"
    }
   ],
   "source": [
    "pwd"
   ]
  },
  {
   "cell_type": "code",
   "execution_count": 3,
   "metadata": {
    "scrolled": true
   },
   "outputs": [
    {
     "name": "stdout",
     "output_type": "stream",
     "text": [
      "Running Jupyter-Book v1.0.4.post1\n",
      "Source Folder: /Users/epfrady/Documents/Paxon/Research/GitHub/epaxon.github.io\n",
      "Config Path: /Users/epfrady/Documents/Paxon/Research/GitHub/epaxon.github.io/_config.yml\n",
      "Output Path: /Users/epfrady/Documents/Paxon/Research/GitHub/epaxon.github.io/_build/html\n",
      "\u001b[01mRunning Sphinx v7.4.7\u001b[39;49;00m\n",
      "\u001b[01mloading translations [en]... \u001b[39;49;00mdone\n"
     ]
    },
    {
     "name": "stderr",
     "output_type": "stream",
     "text": [
      "/opt/homebrew/Caskroom/miniforge/base/lib/python3.9/site-packages/sphinxcontrib/applehelp/__init__.py:24: RemovedInSphinx80Warning: The alias 'sphinx.util.SkipProgressMessage' is deprecated, use 'sphinx.util.display.SkipProgressMessage' instead. Check CHANGES for Sphinx API modifications.\n",
      "  from sphinx.util import SkipProgressMessage, progress_message\n",
      "/opt/homebrew/Caskroom/miniforge/base/lib/python3.9/site-packages/sphinxcontrib/applehelp/__init__.py:24: RemovedInSphinx80Warning: The alias 'sphinx.util.progress_message' is deprecated, use 'sphinx.util.display.progress_message' instead. Check CHANGES for Sphinx API modifications.\n",
      "  from sphinx.util import SkipProgressMessage, progress_message\n",
      "/opt/homebrew/Caskroom/miniforge/base/lib/python3.9/site-packages/sphinxcontrib/htmlhelp/__init__.py:26: RemovedInSphinx80Warning: The alias 'sphinx.util.progress_message' is deprecated, use 'sphinx.util.display.progress_message' instead. Check CHANGES for Sphinx API modifications.\n",
      "  from sphinx.util import progress_message\n"
     ]
    },
    {
     "name": "stdout",
     "output_type": "stream",
     "text": [
      "\u001b[01mmyst v3.0.1:\u001b[39;49;00m MdParserConfig(commonmark_only=False, gfm_only=False, enable_extensions={'colon_fence', 'dollarmath', 'tasklist', 'linkify', 'substitution'}, disable_syntax=[], all_links_external=False, links_external_new_tab=False, url_schemes=('mailto', 'http', 'https'), ref_domains=None, fence_as_directive=set(), number_code_blocks=[], title_to_header=False, heading_anchors=0, heading_slug_func=None, html_meta={}, footnote_transition=True, words_per_minute=200, substitutions={}, linkify_fuzzy_links=True, dmath_allow_labels=True, dmath_allow_space=True, dmath_allow_digits=True, dmath_double_inline=False, update_mathjax=True, mathjax_classes='tex2jax_process|mathjax_process|math|output_area', enable_checkboxes=False, suppress_warnings=[], highlight_code_blocks=True)\n",
      "\u001b[01mmyst-nb v1.3.0:\u001b[39;49;00m NbParserConfig(custom_formats={}, metadata_key='mystnb', cell_metadata_key='mystnb', kernel_rgx_aliases={}, eval_name_regex='^[a-zA-Z_][a-zA-Z0-9_]*$', execution_mode='off', execution_cache_path='', execution_excludepatterns=[], execution_timeout=30, execution_in_temp=False, execution_allow_errors=False, execution_raise_on_error=False, execution_show_tb=False, merge_streams=False, render_plugin='default', remove_code_source=False, remove_code_outputs=False, scroll_outputs=False, code_prompt_show='Show code cell {type}', code_prompt_hide='Hide code cell {type}', number_source_lines=False, output_stderr='show', render_text_lexer='myst-ansi', render_error_lexer='ipythontb', render_image_options={}, render_figure_options={}, render_markdown_format='commonmark', output_folder='build', append_css=True, metadata_to_fm=False)\n",
      "Using jupyter-cache at: /Users/epfrady/Documents/Paxon/Research/GitHub/epaxon.github.io/_build/.jupyter_cache\n",
      "\u001b[01msphinx-multitoc-numbering v0.1.3:\u001b[39;49;00m Loaded\n",
      "\u001b[01mbuilding [mo]: \u001b[39;49;00mtargets for 0 po files that are out of date\n",
      "\u001b[01mwriting output... \u001b[39;49;00m\n",
      "\u001b[01mbuilding [html]: \u001b[39;49;00mtargets for 31 source files that are out of date\n",
      "\u001b[01mupdating environment: \u001b[39;49;00m[new config] 31 added, 0 changed, 0 removed\n",
      "\u001b[2K\u001b[01mreading sources... \u001b[39;49;00m[100%] \u001b[35mindex\u001b[39;49;00mok\u001b[39;49;00mng-231203\u001b[39;49;00m9;00m1\u001b[39;49;00m\n",
      "\u001b[01mlooking for now-outdated files... \u001b[39;49;00mnone found\n",
      "\u001b[01mpickling environment... \u001b[39;49;00mdone\n",
      "\u001b[01mchecking consistency... \u001b[39;49;00mdone\n",
      "\u001b[01mpreparing documents... \u001b[39;49;00mdone\n",
      "\u001b[01mcopying assets... \u001b[39;49;00m\n",
      "\u001b[01mcopying static files... \u001b[39;49;00m"
     ]
    },
    {
     "name": "stderr",
     "output_type": "stream",
     "text": [
      "\u001b[91m/Users/epfrady/Documents/Paxon/Research/GitHub/epaxon.github.io/Research/res_semi_primes-220216.ipynb:210002: WARNING: Non-consecutive header level increase; H1 to H3 [myst.header]\u001b[39;49;00m\n",
      "\u001b[91m/Users/epfrady/Documents/Paxon/Research/GitHub/epaxon.github.io/blog/blog_dims_projections_220107.ipynb:10002: WARNING: Document headings start at H2, not H1 [myst.header]\u001b[39;49;00m\n",
      "\u001b[91m/Users/epfrady/Documents/Paxon/Research/GitHub/epaxon.github.io/blog/lit_review-feature_binding-231203.ipynb:10002: WARNING: Document headings start at H3, not H1 [myst.header]\u001b[39;49;00m\n",
      "\u001b[91m/Users/epfrady/Documents/Paxon/Research/GitHub/epaxon.github.io/blog/lit_review-feature_binding-231203.ipynb:20002: WARNING: Document headings start at H3, not H1 [myst.header]\u001b[39;49;00m\n",
      "\u001b[91m/Users/epfrady/Documents/Paxon/Research/GitHub/epaxon.github.io/blog/lit_review-feature_binding-231203.ipynb:20009: WARNING: image file not readable: blog/attachment:Treissman%20-%201999%20-%20Dalmation.png\u001b[39;49;00m\n",
      "\u001b[91m/Users/epfrady/Documents/Paxon/Research/GitHub/epaxon.github.io/README.md: WARNING: document isn't included in any toctree\u001b[39;49;00m\n",
      "\u001b[91m/Users/epfrady/Documents/Paxon/Research/GitHub/epaxon.github.io/Research/resonator_template-Copy1.ipynb: WARNING: document isn't included in any toctree\u001b[39;49;00m\n",
      "\u001b[91m/Users/epfrady/Documents/Paxon/Research/GitHub/epaxon.github.io/Tutorials/connectionism.ipynb: WARNING: document isn't included in any toctree\u001b[39;49;00m\n",
      "\u001b[91m/Users/epfrady/Documents/Paxon/Research/GitHub/epaxon.github.io/Tutorials/hodgkin_huxley_paradigm.ipynb: WARNING: document isn't included in any toctree\u001b[39;49;00m\n",
      "\u001b[91m/Users/epfrady/Documents/Paxon/Research/GitHub/epaxon.github.io/Tutorials/spiking_basics_brian2-2comp.ipynb: WARNING: document isn't included in any toctree\u001b[39;49;00m\n",
      "\u001b[91m/Users/epfrady/Documents/Paxon/Research/GitHub/epaxon.github.io/Tutorials/vsa_data_classifier.ipynb: WARNING: document isn't included in any toctree\u001b[39;49;00m\n",
      "\u001b[91m/Users/epfrady/Documents/Paxon/Research/GitHub/epaxon.github.io/blog/Stream of consciousness on consciousness -- 210201.ipynb: WARNING: document isn't included in any toctree\u001b[39;49;00m\n",
      "\u001b[91m/Users/epfrady/Documents/Paxon/Research/GitHub/epaxon.github.io/blog/blog_causality_computation-210515.ipynb: WARNING: document isn't included in any toctree\u001b[39;49;00m\n",
      "\u001b[91m/Users/epfrady/Documents/Paxon/Research/GitHub/epaxon.github.io/blog/blog_consciousness_210201.ipynb: WARNING: document isn't included in any toctree\u001b[39;49;00m\n",
      "\u001b[91m/Users/epfrady/Documents/Paxon/Research/GitHub/epaxon.github.io/blog/blog_dims_projections_220107.ipynb: WARNING: document isn't included in any toctree\u001b[39;49;00m\n",
      "\u001b[91m/Users/epfrady/Documents/Paxon/Research/GitHub/epaxon.github.io/blog/blog_extrapolation_220105.ipynb: WARNING: document isn't included in any toctree\u001b[39;49;00m\n",
      "\u001b[91m/Users/epfrady/Documents/Paxon/Research/GitHub/epaxon.github.io/blog/blog_fundamental_pressures_210329.ipynb: WARNING: document isn't included in any toctree\u001b[39;49;00m\n",
      "\u001b[91m/Users/epfrady/Documents/Paxon/Research/GitHub/epaxon.github.io/blog/blog_quantum_arrow_210323.ipynb: WARNING: document isn't included in any toctree\u001b[39;49;00m\n",
      "\u001b[91m/Users/epfrady/Documents/Paxon/Research/GitHub/epaxon.github.io/blog/computational_dynamics-pendulum-230402.ipynb: WARNING: document isn't included in any toctree\u001b[39;49;00m\n",
      "\u001b[91m/Users/epfrady/Documents/Paxon/Research/GitHub/epaxon.github.io/blog/dualism-220301.ipynb: WARNING: document isn't included in any toctree\u001b[39;49;00m\n",
      "\u001b[91m/Users/epfrady/Documents/Paxon/Research/GitHub/epaxon.github.io/blog/lit_review-feature_binding-231203.ipynb: WARNING: document isn't included in any toctree\u001b[39;49;00m\n",
      "\u001b[91m/Users/epfrady/Documents/Paxon/Research/GitHub/epaxon.github.io/blog/story-210322.ipynb: WARNING: document isn't included in any toctree\u001b[39;49;00m\n",
      "\u001b[91m/Users/epfrady/Documents/Paxon/Research/GitHub/epaxon.github.io/build_jupyter_book.ipynb: WARNING: document isn't included in any toctree\u001b[39;49;00m\n"
     ]
    },
    {
     "name": "stdout",
     "output_type": "stream",
     "text": [
      "done\n",
      "\u001b[01mcopying extra files... \u001b[39;49;00mdone\n",
      "\u001b[01mcopying assets: \u001b[39;49;00mdone\n",
      "\u001b[2K\u001b[01mwriting output... \u001b[39;49;00m[100%] \u001b[32mindex\u001b[39;49;00mok\u001b[39;49;00mng-231203\u001b[39;49;00m9;00m1\u001b[39;49;00m\n",
      "\u001b[01mgenerating indices... \u001b[39;49;00mgenindex "
     ]
    },
    {
     "name": "stderr",
     "output_type": "stream",
     "text": [
      "\u001b[91m/Users/epfrady/Documents/Paxon/Research/GitHub/epaxon.github.io/Research/resonator_networks.ipynb:30013: WARNING: 'myst' cross-reference target not found: '' [myst.xref_missing]\u001b[39;49;00m\n"
     ]
    },
    {
     "name": "stdout",
     "output_type": "stream",
     "text": [
      "done\n",
      "\u001b[01mwriting additional pages... \u001b[39;49;00msearch done\n",
      "\u001b[2K\u001b[01mcopying images... \u001b[39;49;00m[100%] \u001b[33m_build/jupyter_execute/db248af87912b5bcbcd755ce1079f80dbd1db8d12e37c0e5553f3a23e81ead21.png\u001b[39;49;00m\n",
      "\u001b[01mdumping search index in English (code: en)... \u001b[39;49;00mdone\n",
      "\u001b[01mdumping object inventory... \u001b[39;49;00mdone\n",
      "\u001b[01mbuild succeeded, 24 warnings.\u001b[39;49;00m\n",
      "\n",
      "The HTML pages are in _build/html.\n",
      "\n",
      "\u001b[92m===============================================================================\u001b[0m\n",
      "\n",
      "Finished generating HTML for book.\n",
      "Your book's HTML pages are here:\n",
      "    _build/html/\n",
      "You can look at your book by opening this file in a browser:\n",
      "    _build/html/index.html\n",
      "Or paste this line directly into your browser bar:\n",
      "    file:///Users/epfrady/Documents/Paxon/Research/GitHub/epaxon.github.io/_build/html/index.html            \n",
      "\n",
      "\u001b[92m===============================================================================\u001b[0m\n",
      "\n"
     ]
    },
    {
     "data": {
      "text/plain": [
       "0"
      ]
     },
     "execution_count": 3,
     "metadata": {},
     "output_type": "execute_result"
    }
   ],
   "source": [
    "# build the notebook locally\n",
    "os.system('jupyter-book build --all ./')\n",
    "#os.system('jupyter-book build --all ~/Research/GitHub/epaxon.github.io/')"
   ]
  },
  {
   "cell_type": "code",
   "execution_count": 12,
   "metadata": {},
   "outputs": [],
   "source": [
    "# USE GIT TO COMMIT AND PUSH CONTENT TO GITHUB "
   ]
  },
  {
   "cell_type": "code",
   "execution_count": 11,
   "metadata": {},
   "outputs": [
    {
     "data": {
      "text/plain": [
       "0"
      ]
     },
     "execution_count": 11,
     "metadata": {},
     "output_type": "execute_result"
    }
   ],
   "source": [
    "# copy extra files into html directory\n",
    "#os.system('mkdir _build/html/files')\n",
    "#os.system('cp files/* _build/html/files/')"
   ]
  },
  {
   "cell_type": "code",
   "execution_count": 12,
   "metadata": {},
   "outputs": [
    {
     "name": "stderr",
     "output_type": "stream",
     "text": [
      "To github.com:epaxon/epaxon.github.io.git\n",
      "   514bb37..97dc5ff  gh-pages -> gh-pages\n"
     ]
    },
    {
     "data": {
      "text/plain": [
       "0"
      ]
     },
     "execution_count": 12,
     "metadata": {},
     "output_type": "execute_result"
    }
   ],
   "source": [
    "# push the build to github\n",
    "os.system('ghp-import -n -p -f _build/html')\n"
   ]
  },
  {
   "cell_type": "code",
   "execution_count": null,
   "metadata": {},
   "outputs": [],
   "source": [
    "\n"
   ]
  }
 ],
 "metadata": {
  "kernelspec": {
   "display_name": "Python 3 (ipykernel)",
   "language": "python",
   "name": "python3"
  },
  "language_info": {
   "codemirror_mode": {
    "name": "ipython",
    "version": 3
   },
   "file_extension": ".py",
   "mimetype": "text/x-python",
   "name": "python",
   "nbconvert_exporter": "python",
   "pygments_lexer": "ipython3",
   "version": "3.9.7"
  }
 },
 "nbformat": 4,
 "nbformat_minor": 4
}
