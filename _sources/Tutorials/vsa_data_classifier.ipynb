{
 "cells": [
  {
   "cell_type": "markdown",
   "id": "5071b2a4",
   "metadata": {},
   "source": [
    "# Data classification and Vector Function Architectures\n",
    "\n",
    "Data classification is one of the core aspects of artificial intelligence. With Deep Learning, we often take for granted or ignore entirely the meaning of the \"features\" represented by the neurons in the network. Many will ascribe meaning to a neural network's computations by visualizing the features that the network learns to represent, but it is difficult to ascribe direct meaning to the feature representations learned by neural networks. \n",
    "\n",
    "Here, we will return to many ideas in conventional machine-learning, when the features weren't solely learned from large-scale data, but in a time when \"feature engineering\" was a prominent idea. In this era, statisticians warned of the insufficiencies of learning from data, that there were implications of bias and variance, and that inductive bias, priors and assumptions about the nature of the data were extremely important for learned classifiers to be useful/successful. \n",
    "\n",
    "These lessons have since been ignored and the acceptance of black box classification machines became mainstream. When AI became popular in the 2010s, there was a shift to only being concerned about overall performance, with less and less concern about insights into the way these networks were solving problems. \n",
    "\n",
    "Now transparency is of greater concern, and insights into how networks represent data and perform computations are needed. But to better understand how neural networks might be operating, we must go back to the foundational ideas in data classification. \n",
    "\n",
    "But here too we will also connect these foundations to Vector-Symbolic Architectures. The added lens that VSA provides will show how the foundational concepts in data science have multiple possible implementations. The variety of ways to implement the same representations of data is critical to understand, both in order to optimize implementations for computer hardware, and to provide some perspective on how the brain or artificial neural networks might choose to form their representations of data. "
   ]
  }
 ],
 "metadata": {
  "kernelspec": {
   "display_name": "Python 3 (ipykernel)",
   "language": "python",
   "name": "python3"
  },
  "language_info": {
   "codemirror_mode": {
    "name": "ipython",
    "version": 3
   },
   "file_extension": ".py",
   "mimetype": "text/x-python",
   "name": "python",
   "nbconvert_exporter": "python",
   "pygments_lexer": "ipython3",
   "version": "3.9.7"
  }
 },
 "nbformat": 4,
 "nbformat_minor": 5
}
