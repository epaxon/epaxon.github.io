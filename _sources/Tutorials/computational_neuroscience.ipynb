{
 "cells": [
  {
   "cell_type": "markdown",
   "id": "01ab4461",
   "metadata": {},
   "source": [
    "# Computational Neuroscience\n",
    "\n",
    "Here are tutorials on topics in computational neuroscience. I will be trying to connect some observations in neuroscience to computational theories of connectionism and neural networks. This will also serve as introductory material to programming in Brian2 as well as concepts for programming neuromorphic hardware.\n",
    "\n"
   ]
  }
 ],
 "metadata": {
  "kernelspec": {
   "display_name": "Python 3 (ipykernel)",
   "language": "python",
   "name": "python3"
  },
  "language_info": {
   "codemirror_mode": {
    "name": "ipython",
    "version": 3
   },
   "file_extension": ".py",
   "mimetype": "text/x-python",
   "name": "python",
   "nbconvert_exporter": "python",
   "pygments_lexer": "ipython3",
   "version": "3.9.7"
  }
 },
 "nbformat": 4,
 "nbformat_minor": 5
}
