{
 "cells": [
  {
   "cell_type": "markdown",
   "id": "3040feba",
   "metadata": {},
   "source": [
    "# Connectionism\n",
    "\n",
    "In this chapter we will go over the foundations of information processing in neural networks.\n",
    "\n",
    "The link between brain function and computation goes back to the invention of the computer. From a modern perspective, we often think about the brain being a computer, but from Turing and Von Neumann's point of view, the computer was a brain! As they developed the architecture of the modern computer, their explicit goal was to make a machine that can do the mathematical calculations that they were doing inside of their heads. The computer was built to do what the brain does!\n",
    "\n",
    "The research into neuroscience had a profound impact on the early design architecture of modern computers\n",
    "\n"
   ]
  },
  {
   "cell_type": "markdown",
   "id": "bc729580",
   "metadata": {},
   "source": [
    "## Vectors and Symbols\n",
    "\n",
    "In a standard von neumann architecture, we use binary digits to represent information. In connectionism, we use vectors. \n",
    "\n",
    "To have the very basic essence of computation, we have to be able to ask, are two represenations the same? For representations of binary digits, the representation is the same if and only if all the bits are the same. Even if one bit is off, then the representations would be considered different. \n",
    "\n",
    "Mathematically this can be thought of as a kernel $K(s_1, s_2) = \\delta$.\n",
    "\n",
    "With vector representations, however, the concept of being equal can be more complicated. Rather than a similarity that is binary, the symbols are the same or different, vector representations can have a graded similarity value. \n",
    "What is important to understand about vectors in vector spaces is the concept of orthogonality. Orthogonal vectors can be thought of as the symbols used to represent information. \n",
    "\n",
    "The similarity between vectors is computed typically through the inner product, sometimes followed by normalization or non-linearities. Essentially, the inner product is geometrically describing how aligned two vectors are in a vector space. If they are aligned (and normalized) then the inner product is one. If they are orthogonal, then the inner product is zero. \n",
    "\n",
    "The fact that the inner product between orthogonal vectors is zero is what allows such vectors to act as symbols. In the most straight-forward paradigm of representing symbols, we would consider each entry in the vector to represent that symbol. If the vector is one at that location, then the symbol is present; if it is zero, the symbol is missing. The inner product between two vectors that are representing different symbols is zero; and the inner product of the same vector-symbols is one. Mathematically this aligns representations of symbols in vector spaces with the behavior of symbols in digital computers. \n",
    "\n",
    "While we can think of each entry of the vector as acting like a symbol, it doesn't matter which set of orthogonal vectors are used. We can use a \"codebook\" to store the set of orthogonal vectors that are essentially the basis functions of symbolic representation. \n",
    "\n",
    "We could have a codebook like:\n",
    "$$\n",
    "[1,0,0,0; 0,1,0,0; 0,0,1,0; 0,0,0,1]\n",
    "$$\n",
    "where each \"neuron\" is indicating the presence of a symbol. This type of representation is the default/identity of the vector space. \n",
    "\n",
    "But we can also have a codebook like:\n",
    "$$\n",
    "[]\n",
    "$$\n",
    "where instead each symbol is distributed across the \"neurons\", but nonetheless the kernel properties of orthogonal vectors makes this representation just as good as any other, at least in terms of basic representations.\n",
    "\n",
    "But now we can understand the difference between digital symbols and vector symbols. First, the number of symbols that can be represented is quite different. Any vector space has at most $N$ orthogonal vectors, where $N$ is the dimensionality of the vector space. While a digital representations that uses $N$ bits, can represent $2^N$ symbols. And by golly, any thing that is exponential is a big deal. \n",
    "\n",
    "So what is the benefit of a vector representation? When thinking about symbols, what a vector space allows is the concept of representing multiple symbols in \"superposition\". Instead of only being able to indicate the sameness or difference of two digital symbols, vector symbols can indicate, in effect, a full probability distribution over the likelihoods of all the symbols. \n",
    "This often leads to the ability to parallelize computations through manipulations of the vector representations. \n",
    "\n",
    "So then the standard connectionist framework is that symbols in vector spaces are essentially an orthogonal set of basis vectors. The codebook is a matrix that stores the basis vectors. Any set of orthogonal basis vectors can act like symbols."
   ]
  },
  {
   "cell_type": "markdown",
   "id": "a569e7b0",
   "metadata": {},
   "source": [
    "## Vector algebra and boolean algebra\n",
    "\n",
    "The tools of linear algebra are used to then manipulate vector representations to perform computation.\n",
    "\n",
    "Algebra is extremely useful for designing algorithms.\n",
    "\n",
    "In digital computers, we utilize boolean algebra as the mathematical framework for building computer algorithms. So we may consider the states of binary variables `x1, x2, x3` as part of the algorithm. Based on the conditions of these states we may want to perform different actions. Consider the following example.\n"
   ]
  },
  {
   "cell_type": "code",
   "execution_count": 3,
   "id": "ce887ecc",
   "metadata": {},
   "outputs": [
    {
     "name": "stdout",
     "output_type": "stream",
     "text": [
      "True True True: Option 1, Option 2\n",
      "True True False: Option 1, Option 2\n",
      "True False True: \n",
      "True False False: Option 1, Option 2\n",
      "False True True: \n",
      "False True False: \n",
      "False False True: \n",
      "False False False: \n"
     ]
    }
   ],
   "source": [
    "x1, x2, x3 = True, False, False\n",
    "\n",
    "for x1 in [True, False]:\n",
    "    for x2 in [True, False]:\n",
    "        for x3 in [True, False]:\n",
    "            print(x1,x2,x3, end=': ')\n",
    "            \n",
    "            if x1 and (x2 or not x3):\n",
    "                print(\"Option 1\", end=', ')\n",
    "\n",
    "            if (x1 and x2) or (x1 and not x3):\n",
    "                print(\"Option 2\")\n",
    "            else:\n",
    "                print(\"\")\n",
    "            "
   ]
  },
  {
   "cell_type": "markdown",
   "id": "0ffa2445",
   "metadata": {},
   "source": [
    "So in this simple example, we see that whenever Option 1 is triggered, Option 2 is also triggered. The rules of boolean algebra allow us to use mathematics to transform the computations, and we can see that the logic expressions are equivalent. \n",
    "\n",
    "In boolean algebra, the `and` and `or` functions behave like the operations `*` and `+` in normal algebra. Importantly, the distributive property must be recognized, where the `and` operation distributes over the `or` operation, just like multiplication distributes over addition.\n",
    "\n",
    "```\n",
    "(x1 or x2) and (x3 or x4 or x5) == ((x1 and x3) or (x1 and x4) or (x1 and x5) \n",
    "                                 or (x2 and x3) or (x2 and x4) or (x2 and x5))\n",
    "```\n",
    "\n",
    "Theare other binary operations, which are given by truth tables. \n",
    "When designing computers, computer engineers build electronic circuits that can perform the logical calculus of these operations.\n",
    "But only a subset of all binary operations are needed if one has an algebraic capacity.\n",
    "\n",
    "For instance consider the boolean XOR gate, which can be described in a logic table:\n",
    "$$\n",
    "x1 | x2 | out \\\\\n",
    " T |  T |  F \\\\\n",
    " T |  F |  T \\\\\n",
    " F |  T |  T \\\\\n",
    " F |  F |  F\n",
    "$$\n",
    "\n",
    "We could design a digital circuit to specifically implement this function, or we can combine the set of `and`, `or` and `not` operations to make an equivalent circuit.\n",
    "\n",
    "def xor(x1, x2):\n",
    "    return (x1 and not x2) or (x2 and not x1)\n",
    "\n",
    "By organizing large circuits of these logic gates, we can perform computations, and given the right machinery we can create a system that is \"Turing Complete\". This means that it can perform any logical manipulation of digital variables, and is hence a \"Universal Computer\".  We understand the computations through boolean algebra, and a computer is essentially a system that contains digital circuits that perform a set of logic operations as well as machinery that can organize the operations into an algebraic structure.\n",
    "\n",
    "Mathematicians have developed the field of group theory to fully generalize the concepts used in algebra. In high-school algebra, we are introduced to different types of number systems -- integers, rational numbers, real numbers, complex numbers. Before we converted to binary, before digital computers, mathematicians would perform computations on these numbers using the rules of algebra. \n",
    "\n",
    "But not all number systems have the same algebraic properties, and mathematicians set out to catalog all the different types of number systems. This field of research is called Group Theory, and it is quite unlike a typical notion of a mathematical science. \n"
   ]
  },
  {
   "cell_type": "code",
   "execution_count": null,
   "id": "fcb1ceda",
   "metadata": {},
   "outputs": [],
   "source": []
  }
 ],
 "metadata": {
  "kernelspec": {
   "display_name": "Python 3 (ipykernel)",
   "language": "python",
   "name": "python3"
  },
  "language_info": {
   "codemirror_mode": {
    "name": "ipython",
    "version": 3
   },
   "file_extension": ".py",
   "mimetype": "text/x-python",
   "name": "python",
   "nbconvert_exporter": "python",
   "pygments_lexer": "ipython3",
   "version": "3.9.7"
  }
 },
 "nbformat": 4,
 "nbformat_minor": 5
}
