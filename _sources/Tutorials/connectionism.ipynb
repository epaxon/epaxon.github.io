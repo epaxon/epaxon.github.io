{
 "cells": [
  {
   "cell_type": "markdown",
   "id": "3040feba",
   "metadata": {},
   "source": [
    "# Connectionism\n",
    "\n",
    "In this chapter we will go over the foundations of information processing in neural networks.\n",
    "\n",
    "The link between brain function and computation goes back to the invention of the computer. From a modern perspective, we often think about the brain being a computer, but from Turing and Von Neumann's point of view, the computer was a brain! As they developed the architecture of the modern computer, their explicit goal was to make a machine that can do the mathematical calculations that they were doing inside of their heads. The computer was built to do what the brain does!\n",
    "\n",
    "The research into neuroscience had a profound impact on the early design architecture of modern computers\n",
    "\n"
   ]
  },
  {
   "cell_type": "code",
   "execution_count": null,
   "id": "4649f17e",
   "metadata": {},
   "outputs": [],
   "source": []
  }
 ],
 "metadata": {
  "kernelspec": {
   "display_name": "Python 3 (ipykernel)",
   "language": "python",
   "name": "python3"
  },
  "language_info": {
   "codemirror_mode": {
    "name": "ipython",
    "version": 3
   },
   "file_extension": ".py",
   "mimetype": "text/x-python",
   "name": "python",
   "nbconvert_exporter": "python",
   "pygments_lexer": "ipython3",
   "version": "3.9.7"
  }
 },
 "nbformat": 4,
 "nbformat_minor": 5
}
