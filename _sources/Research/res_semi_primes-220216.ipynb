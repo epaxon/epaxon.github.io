{
 "cells": [
  {
   "cell_type": "markdown",
   "id": "42497aef",
   "metadata": {},
   "source": [
    "# Factoring semi-primes with the resonator network"
   ]
  },
  {
   "cell_type": "code",
   "execution_count": 1,
   "id": "7b9df3e8",
   "metadata": {},
   "outputs": [],
   "source": [
    "from pylab import *\n",
    "import math\n",
    "\n",
    "import res_utils as ru"
   ]
  },
  {
   "cell_type": "code",
   "execution_count": 2,
   "id": "8bdfe14a",
   "metadata": {},
   "outputs": [],
   "source": [
    "%matplotlib inline\n",
    "\n",
    "plt.rcParams.update({'font.size': 18})\n",
    "plt.rcParams.update({'font.family': 'serif', \n",
    "                     'font.serif':['Computer Modern']})"
   ]
  },
  {
   "cell_type": "code",
   "execution_count": 3,
   "id": "9da6659c",
   "metadata": {},
   "outputs": [],
   "source": [
    "# return a dict or a list of primes up to N\n",
    "# create full prime sieve for N=10^6 in 1 sec\n",
    "def prime_sieve(n, output={}):\n",
    "    nroot = int(math.sqrt(n))\n",
    "    sieve = np.arange(n+1)\n",
    "    sieve[1] = 0\n",
    "\n",
    "    for i in range(2, nroot+1):\n",
    "        if sieve[i] != 0:\n",
    "            m = int(n/i - i)\n",
    "            sieve[i*i: n+1:i] = [0] * (m+1)\n",
    "\n",
    "    if type(output) == dict:\n",
    "        pmap = {}\n",
    "        for x in sieve:\n",
    "            if x != 0:\n",
    "                pmap[x] = True\n",
    "        return pmap\n",
    "    elif type(output) == list:\n",
    "        return [x for x in sieve if x != 0]\n",
    "    else:\n",
    "        return None"
   ]
  },
  {
   "cell_type": "code",
   "execution_count": 4,
   "id": "373e8ba6",
   "metadata": {},
   "outputs": [],
   "source": [
    "prime_range = int(1e4)\n",
    "list_of_primes = prime_sieve(prime_range, [])"
   ]
  },
  {
   "cell_type": "code",
   "execution_count": 5,
   "id": "6a15a74c",
   "metadata": {},
   "outputs": [
    {
     "name": "stderr",
     "output_type": "stream",
     "text": [
      "/var/folders/xn/hqbqng2d6nz8f1lcyd545kqr0000gn/T/ipykernel_13105/543448723.py:3: RuntimeWarning: divide by zero encountered in log\n",
      "  plot(prime_approx_x/(np.log(prime_approx_x)-1), prime_approx_x, \":k\")\n"
     ]
    },
    {
     "data": {
      "text/plain": [
       "[<matplotlib.lines.Line2D at 0x1279733d0>]"
      ]
     },
     "execution_count": 5,
     "metadata": {},
     "output_type": "execute_result"
    },
    {
     "data": {
      "image/png": "[encoded data removed]",
      "text/plain": [
       "<Figure size 432x288 with 1 Axes>"
      ]
     },
     "metadata": {
      "needs_background": "light"
     },
     "output_type": "display_data"
    }
   ],
   "source": [
    "prime_approx_x = np.linspace(0, prime_range, 500)\n",
    "\n",
    "plot(prime_approx_x/(np.log(prime_approx_x)-1), prime_approx_x, \":k\")\n",
    "\n",
    "plot(list_of_primes)"
   ]
  },
  {
   "cell_type": "code",
   "execution_count": 6,
   "id": "5670415b",
   "metadata": {},
   "outputs": [
    {
     "data": {
      "text/plain": [
       "[<matplotlib.lines.Line2D at 0x127a69df0>]"
      ]
     },
     "execution_count": 6,
     "metadata": {},
     "output_type": "execute_result"
    },
    {
     "data": {
      "image/png": "[encoded data removed]",
      "text/plain": [
       "<Figure size 432x288 with 1 Axes>"
      ]
     },
     "metadata": {
      "needs_background": "light"
     },
     "output_type": "display_data"
    }
   ],
   "source": [
    "log_diff = np.diff(np.log(list_of_primes))    \n",
    "    \n",
    "plot(log_diff)  "
   ]
  },
  {
   "cell_type": "code",
   "execution_count": 7,
   "id": "0072a1ef",
   "metadata": {},
   "outputs": [
    {
     "name": "stdout",
     "output_type": "stream",
     "text": [
      "49649999.832372874\n"
     ]
    }
   ],
   "source": [
    "beta = 1e4/min(log_diff)\n",
    "print(beta)"
   ]
  },
  {
   "cell_type": "code",
   "execution_count": 8,
   "id": "22160f7a",
   "metadata": {},
   "outputs": [],
   "source": [
    "N = 10000\n",
    "D = len(list_of_primes)\n",
    "\n",
    "z_phi = ru.cvec(N, 1)\n",
    "\n",
    "phi = ru.cvec(N, D)\n",
    "\n",
    "for i in range(D):\n",
    "    phi[i] = z_phi ** (beta * np.log(list_of_primes[i]))"
   ]
  },
  {
   "cell_type": "code",
   "execution_count": 9,
   "id": "bd921033",
   "metadata": {},
   "outputs": [
    {
     "data": {
      "text/plain": [
       "(2, 5)"
      ]
     },
     "execution_count": 9,
     "metadata": {},
     "output_type": "execute_result"
    }
   ],
   "source": [
    "list_of_primes[0], list_of_primes[2]"
   ]
  },
  {
   "cell_type": "code",
   "execution_count": 10,
   "id": "e2240c83",
   "metadata": {},
   "outputs": [
    {
     "name": "stdout",
     "output_type": "stream",
     "text": [
      "1.0000000003400662\n"
     ]
    }
   ],
   "source": [
    "z10 = z_phi ** (beta * np.log(10))\n",
    "\n",
    "z2x5 = phi[0] * phi[2]\n",
    "\n",
    "print(np.real(np.dot(z10, np.conj(z2x5))/N))\n"
   ]
  },
  {
   "cell_type": "code",
   "execution_count": 11,
   "id": "164741be",
   "metadata": {},
   "outputs": [],
   "source": [
    "res_vecs = [phi, phi]"
   ]
  },
  {
   "cell_type": "code",
   "execution_count": 12,
   "id": "47ec18b4",
   "metadata": {},
   "outputs": [
    {
     "name": "stdout",
     "output_type": "stream",
     "text": [
      "6113 9631 58874303\n"
     ]
    }
   ],
   "source": [
    "pidx1 = np.random.randint(len(list_of_primes))\n",
    "pidx2 = np.random.randint(len(list_of_primes))\n",
    "\n",
    "# make smaller number index 1\n",
    "if pidx1 > pidx2:\n",
    "    pidx1, pidx2 = pidx2, pidx1\n",
    "\n",
    "p1 = list_of_primes[pidx1]\n",
    "p2 = list_of_primes[pidx2]\n",
    "\n",
    "s = p1 * p2\n",
    "\n",
    "print(p1, p2, s)\n"
   ]
  },
  {
   "cell_type": "code",
   "execution_count": 13,
   "id": "173cdb54",
   "metadata": {},
   "outputs": [],
   "source": [
    "bound_vec = z_phi ** (beta * np.log(s))"
   ]
  },
  {
   "cell_type": "code",
   "execution_count": 14,
   "id": "bcc5cac5",
   "metadata": {},
   "outputs": [
    {
     "name": "stdout",
     "output_type": "stream",
     "text": [
      "converged: 26\n",
      "Elapsed: 3.2865653038024902\n"
     ]
    }
   ],
   "source": [
    "tst = time.time()\n",
    "res_hist, nsteps = ru.res_decode_abs_slow(bound_vec, res_vecs, 200)\n",
    "print('Elapsed:', time.time() - tst)"
   ]
  },
  {
   "cell_type": "code",
   "execution_count": 15,
   "id": "bdf2686a",
   "metadata": {},
   "outputs": [
    {
     "name": "stdout",
     "output_type": "stream",
     "text": [
      "[796, 1189]\n"
     ]
    },
    {
     "data": {
      "image/png": "[encoded data removed]",
      "text/plain": [
       "<Figure size 576x216 with 2 Axes>"
      ]
     },
     "metadata": {
      "needs_background": "light"
     },
     "output_type": "display_data"
    }
   ],
   "source": [
    "# visualize the convergence dynamics\n",
    "figure(figsize=(8,3))\n",
    "\n",
    "ru.resplot_im(res_hist, nsteps)\n",
    "\n",
    "plt.tight_layout()"
   ]
  },
  {
   "cell_type": "code",
   "execution_count": 16,
   "id": "e8332be8",
   "metadata": {},
   "outputs": [
    {
     "name": "stdout",
     "output_type": "stream",
     "text": [
      "700 1100\n"
     ]
    }
   ],
   "source": [
    "#res_hist2 = [res_hist[0][:, 100*(p1//100):(100*(p1//100)+100)], res_hist[1][:, 100*(p2//100):(100*(p2//100)+100)]]\n",
    "p1st = 100*(pidx1//100)\n",
    "p2st = 100*(pidx2//100)\n",
    "\n",
    "res_hist2 = [res_hist[0][:, p1st:(p1st+100)], res_hist[1][:, p2st:(p2st+100)]]\n",
    "print(p1st, p2st)"
   ]
  },
  {
   "cell_type": "code",
   "execution_count": 17,
   "id": "193363cc",
   "metadata": {},
   "outputs": [
    {
     "name": "stdout",
     "output_type": "stream",
     "text": [
      "[96, 89]\n"
     ]
    },
    {
     "data": {
      "image/png": "[encoded data removed]",
      "text/plain": [
       "<Figure size 576x216 with 2 Axes>"
      ]
     },
     "metadata": {
      "needs_background": "light"
     },
     "output_type": "display_data"
    }
   ],
   "source": [
    "# visualize the convergence dynamics\n",
    "figure(figsize=(8,3))\n",
    "\n",
    "ru.resplot_im(res_hist2, nsteps)\n",
    "\n",
    "plt.tight_layout()"
   ]
  },
  {
   "cell_type": "code",
   "execution_count": 18,
   "id": "1772fef2",
   "metadata": {},
   "outputs": [
    {
     "name": "stdout",
     "output_type": "stream",
     "text": [
      "[796, 1189] 1\n"
     ]
    }
   ],
   "source": [
    "out_w, out_c = ru.get_output_conv(res_hist, nsteps)\n",
    "print(out_w, out_c)"
   ]
  },
  {
   "cell_type": "code",
   "execution_count": 19,
   "id": "a29d5d22",
   "metadata": {},
   "outputs": [
    {
     "name": "stdout",
     "output_type": "stream",
     "text": [
      "6113 9631\n",
      "6113 9631\n"
     ]
    }
   ],
   "source": [
    "print(list_of_primes[out_w[0]], list_of_primes[out_w[1]])\n",
    "print(p1, p2)"
   ]
  },
  {
   "cell_type": "markdown",
   "id": "0158b27f",
   "metadata": {},
   "source": [
    "### limiting number of factors\n",
    "\n"
   ]
  },
  {
   "cell_type": "code",
   "execution_count": 20,
   "id": "5c49e37d",
   "metadata": {},
   "outputs": [
    {
     "name": "stdout",
     "output_type": "stream",
     "text": [
      "971 1228\n"
     ]
    }
   ],
   "source": [
    "sqrt_cutoff = np.where(list_of_primes <= np.sqrt(s))[0][-1]\n",
    "shalf_cutoff = np.where(list_of_primes <= s/2)[0][-1]\n",
    "\n",
    "phi_low = phi[:sqrt_cutoff+1]\n",
    "phi_high= phi[sqrt_cutoff:shalf_cutoff]\n",
    "\n",
    "print(sqrt_cutoff, shalf_cutoff)"
   ]
  },
  {
   "cell_type": "code",
   "execution_count": 21,
   "id": "df688107",
   "metadata": {},
   "outputs": [
    {
     "data": {
      "text/plain": [
       "((972, 10000), (257, 10000))"
      ]
     },
     "execution_count": 21,
     "metadata": {},
     "output_type": "execute_result"
    }
   ],
   "source": [
    "phi_low.shape, phi_high.shape"
   ]
  },
  {
   "cell_type": "code",
   "execution_count": 22,
   "id": "0545bd3d",
   "metadata": {},
   "outputs": [],
   "source": [
    "res_vecs2 = [phi_low, phi_high]"
   ]
  },
  {
   "cell_type": "code",
   "execution_count": 23,
   "id": "6a4a0476",
   "metadata": {},
   "outputs": [
    {
     "name": "stdout",
     "output_type": "stream",
     "text": [
      "converged: 12\n",
      "Elapsed: 0.790489912033081\n"
     ]
    }
   ],
   "source": [
    "tst = time.time()\n",
    "res_hist, nsteps = ru.res_decode_abs_slow(bound_vec, res_vecs2, 200)\n",
    "print('Elapsed:', time.time() - tst)"
   ]
  },
  {
   "cell_type": "code",
   "execution_count": 24,
   "id": "d5b18eb3",
   "metadata": {},
   "outputs": [
    {
     "name": "stdout",
     "output_type": "stream",
     "text": [
      "[796, 218]\n"
     ]
    },
    {
     "data": {
      "image/png": "[encoded data removed]",
      "text/plain": [
       "<Figure size 576x216 with 2 Axes>"
      ]
     },
     "metadata": {
      "needs_background": "light"
     },
     "output_type": "display_data"
    }
   ],
   "source": [
    "# visualize the convergence dynamics\n",
    "figure(figsize=(8,3))\n",
    "\n",
    "ru.resplot_im(res_hist, nsteps)\n",
    "\n",
    "plt.tight_layout()"
   ]
  },
  {
   "cell_type": "code",
   "execution_count": 25,
   "id": "89a378d3",
   "metadata": {},
   "outputs": [
    {
     "name": "stdout",
     "output_type": "stream",
     "text": [
      "700 200\n"
     ]
    }
   ],
   "source": [
    "#res_hist2 = [res_hist[0][:, 100*(p1//100):(100*(p1//100)+100)], res_hist[1][:, 100*(p2//100):(100*(p2//100)+100)]]\n",
    "p1st = 100*(pidx1//100)\n",
    "p2st = 100*((pidx2-sqrt_cutoff)//100)\n",
    "\n",
    "res_hist2 = [res_hist[0][:, p1st:(p1st+100)], res_hist[1][:, p2st:(p2st+100)]]\n",
    "print(p1st, p2st)"
   ]
  },
  {
   "cell_type": "code",
   "execution_count": 26,
   "id": "0d94226b",
   "metadata": {},
   "outputs": [
    {
     "name": "stdout",
     "output_type": "stream",
     "text": [
      "[96, 18]\n"
     ]
    },
    {
     "data": {
      "image/png": "[encoded data removed]",
      "text/plain": [
       "<Figure size 576x216 with 2 Axes>"
      ]
     },
     "metadata": {
      "needs_background": "light"
     },
     "output_type": "display_data"
    }
   ],
   "source": [
    "# visualize the convergence dynamics\n",
    "figure(figsize=(8,3))\n",
    "\n",
    "ru.resplot_im(res_hist2, nsteps)\n",
    "\n",
    "plt.tight_layout()"
   ]
  },
  {
   "cell_type": "code",
   "execution_count": 27,
   "id": "b342d286",
   "metadata": {},
   "outputs": [
    {
     "name": "stdout",
     "output_type": "stream",
     "text": [
      "[796, 218] 1\n"
     ]
    }
   ],
   "source": [
    "out_w, out_c = ru.get_output_conv(res_hist, nsteps)\n",
    "print(out_w, out_c)"
   ]
  },
  {
   "cell_type": "code",
   "execution_count": 28,
   "id": "a1e2e534",
   "metadata": {},
   "outputs": [],
   "source": [
    "out_w[1] += sqrt_cutoff"
   ]
  },
  {
   "cell_type": "code",
   "execution_count": 29,
   "id": "8afa321b",
   "metadata": {},
   "outputs": [
    {
     "name": "stdout",
     "output_type": "stream",
     "text": [
      "6113 9631\n",
      "6113 9631\n"
     ]
    }
   ],
   "source": [
    "print(list_of_primes[out_w[0]], list_of_primes[out_w[1]])\n",
    "print(p1, p2)"
   ]
  }
 ],
 "metadata": {
  "jupytext": {
   "cell_metadata_filter": "-all",
   "executable": "/usr/bin/env python",
   "notebook_metadata_filter": "-all",
   "text_representation": {
    "extension": ".py",
    "format_name": "light"
   }
  },
  "kernelspec": {
   "display_name": "Python 3 (ipykernel)",
   "language": "python",
   "name": "python3"
  },
  "language_info": {
   "codemirror_mode": {
    "name": "ipython",
    "version": 3
   },
   "file_extension": ".py",
   "mimetype": "text/x-python",
   "name": "python",
   "nbconvert_exporter": "python",
   "pygments_lexer": "ipython3",
   "version": "3.9.7"
  }
 },
 "nbformat": 4,
 "nbformat_minor": 5
}
