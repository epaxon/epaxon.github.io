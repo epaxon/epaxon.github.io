{
 "cells": [
  {
   "cell_type": "markdown",
   "id": "c304824a",
   "metadata": {},
   "source": [
    "# Theoretical Neuroscience\n",
    "\n",
    "\n",
    "## Variable binding with sparse distributed representations\n",
    "\n",
    "<a href=\"https://arxiv.org/abs/2009.06734\"> arXiv </a>\n"
   ]
  }
 ],
 "metadata": {
  "kernelspec": {
   "display_name": "Python 3 (ipykernel)",
   "language": "python",
   "name": "python3"
  },
  "language_info": {
   "codemirror_mode": {
    "name": "ipython",
    "version": 3
   },
   "file_extension": ".py",
   "mimetype": "text/x-python",
   "name": "python",
   "nbconvert_exporter": "python",
   "pygments_lexer": "ipython3",
   "version": "3.9.7"
  }
 },
 "nbformat": 4,
 "nbformat_minor": 5
}