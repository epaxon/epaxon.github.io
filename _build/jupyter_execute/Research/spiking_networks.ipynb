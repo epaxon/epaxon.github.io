{
 "cells": [
  {
   "cell_type": "markdown",
   "id": "86ea56a1",
   "metadata": {},
   "source": [
    "# Spiking Neural Networks\n",
    "\n",
    "## Robust Computation with Rhythmic Spike Patterns\n",
    "\n",
    "### Links\n",
    "\n",
    "<a href=\"https://www.pnas.org/content/116/36/18050\"> PNAS </a>\n",
    "\n",
    "<a href=\"https://www.researchgate.net/publication/335276895_Robust_computation_with_rhythmic_spike_patterns\">PDF Available </a>\n",
    "\n",
    "<a href=\"https://nbviewer.jupyter.org/url/epaxon.github.io/tpam_demo-release-190604.ipynb\"> View the TPAM demo notebook </a>\n",
    "\n",
    "<a href=\"tpam.html\"> Learn more! </a>\n",
    "\n",
    "### Summary\n",
    "\n",
    "\n",
    "\n",
    "## Neuromorphic nearest neighbor search on Intel's Pohoiki Springs\n",
    "\n",
    "\n",
    "<a href=\"https://dl.acm.org/doi/pdf/10.1145/3381755.3398695?casa_token=0CyCI7vFe30AAAAA:WFOsToDNmS6rJeIUe4H0_ncDO5Ra5VCpAaMwZma8td7rBjcYV8j1BUHHU_ZkojrhZy4zogCz9PuH\"> \n",
    "Neuromorphic KNN NICE 2020\n",
    "</a>"
   ]
  },
  {
   "cell_type": "code",
   "execution_count": null,
   "id": "84196852",
   "metadata": {},
   "outputs": [],
   "source": []
  }
 ],
 "metadata": {
  "kernelspec": {
   "display_name": "Python 3 (ipykernel)",
   "language": "python",
   "name": "python3"
  },
  "language_info": {
   "codemirror_mode": {
    "name": "ipython",
    "version": 3
   },
   "file_extension": ".py",
   "mimetype": "text/x-python",
   "name": "python",
   "nbconvert_exporter": "python",
   "pygments_lexer": "ipython3",
   "version": "3.9.7"
  }
 },
 "nbformat": 4,
 "nbformat_minor": 5
}