{
 "cells": [
  {
   "cell_type": "code",
   "execution_count": 1,
   "metadata": {},
   "outputs": [
    {
     "name": "stderr",
     "output_type": "stream",
     "text": [
      "/home/epaxon/anaconda3/lib/python3.7/site-packages/sklearn/linear_model/least_angle.py:30: DeprecationWarning: `np.float` is a deprecated alias for the builtin `float`. To silence this warning, use `float` by itself. Doing this will not modify any behavior and is safe. If you specifically wanted the numpy scalar type, use `np.float64` here.\n",
      "Deprecated in NumPy 1.20; for more details and guidance: https://numpy.org/devdocs/release/1.20.0-notes.html#deprecations\n",
      "  method='lar', copy_X=True, eps=np.finfo(np.float).eps,\n",
      "/home/epaxon/anaconda3/lib/python3.7/site-packages/sklearn/linear_model/least_angle.py:167: DeprecationWarning: `np.float` is a deprecated alias for the builtin `float`. To silence this warning, use `float` by itself. Doing this will not modify any behavior and is safe. If you specifically wanted the numpy scalar type, use `np.float64` here.\n",
      "Deprecated in NumPy 1.20; for more details and guidance: https://numpy.org/devdocs/release/1.20.0-notes.html#deprecations\n",
      "  method='lar', copy_X=True, eps=np.finfo(np.float).eps,\n",
      "/home/epaxon/anaconda3/lib/python3.7/site-packages/sklearn/linear_model/least_angle.py:284: DeprecationWarning: `np.float` is a deprecated alias for the builtin `float`. To silence this warning, use `float` by itself. Doing this will not modify any behavior and is safe. If you specifically wanted the numpy scalar type, use `np.float64` here.\n",
      "Deprecated in NumPy 1.20; for more details and guidance: https://numpy.org/devdocs/release/1.20.0-notes.html#deprecations\n",
      "  eps=np.finfo(np.float).eps, copy_Gram=True, verbose=0,\n",
      "/home/epaxon/anaconda3/lib/python3.7/site-packages/sklearn/linear_model/least_angle.py:862: DeprecationWarning: `np.float` is a deprecated alias for the builtin `float`. To silence this warning, use `float` by itself. Doing this will not modify any behavior and is safe. If you specifically wanted the numpy scalar type, use `np.float64` here.\n",
      "Deprecated in NumPy 1.20; for more details and guidance: https://numpy.org/devdocs/release/1.20.0-notes.html#deprecations\n",
      "  eps=np.finfo(np.float).eps, copy_X=True, fit_path=True,\n",
      "/home/epaxon/anaconda3/lib/python3.7/site-packages/sklearn/linear_model/least_angle.py:1101: DeprecationWarning: `np.float` is a deprecated alias for the builtin `float`. To silence this warning, use `float` by itself. Doing this will not modify any behavior and is safe. If you specifically wanted the numpy scalar type, use `np.float64` here.\n",
      "Deprecated in NumPy 1.20; for more details and guidance: https://numpy.org/devdocs/release/1.20.0-notes.html#deprecations\n",
      "  eps=np.finfo(np.float).eps, copy_X=True, fit_path=True,\n",
      "/home/epaxon/anaconda3/lib/python3.7/site-packages/sklearn/linear_model/least_angle.py:1127: DeprecationWarning: `np.float` is a deprecated alias for the builtin `float`. To silence this warning, use `float` by itself. Doing this will not modify any behavior and is safe. If you specifically wanted the numpy scalar type, use `np.float64` here.\n",
      "Deprecated in NumPy 1.20; for more details and guidance: https://numpy.org/devdocs/release/1.20.0-notes.html#deprecations\n",
      "  eps=np.finfo(np.float).eps, positive=False):\n",
      "/home/epaxon/anaconda3/lib/python3.7/site-packages/sklearn/linear_model/least_angle.py:1362: DeprecationWarning: `np.float` is a deprecated alias for the builtin `float`. To silence this warning, use `float` by itself. Doing this will not modify any behavior and is safe. If you specifically wanted the numpy scalar type, use `np.float64` here.\n",
      "Deprecated in NumPy 1.20; for more details and guidance: https://numpy.org/devdocs/release/1.20.0-notes.html#deprecations\n",
      "  max_n_alphas=1000, n_jobs=None, eps=np.finfo(np.float).eps,\n",
      "/home/epaxon/anaconda3/lib/python3.7/site-packages/sklearn/linear_model/least_angle.py:1602: DeprecationWarning: `np.float` is a deprecated alias for the builtin `float`. To silence this warning, use `float` by itself. Doing this will not modify any behavior and is safe. If you specifically wanted the numpy scalar type, use `np.float64` here.\n",
      "Deprecated in NumPy 1.20; for more details and guidance: https://numpy.org/devdocs/release/1.20.0-notes.html#deprecations\n",
      "  max_n_alphas=1000, n_jobs=None, eps=np.finfo(np.float).eps,\n",
      "/home/epaxon/anaconda3/lib/python3.7/site-packages/sklearn/linear_model/least_angle.py:1738: DeprecationWarning: `np.float` is a deprecated alias for the builtin `float`. To silence this warning, use `float` by itself. Doing this will not modify any behavior and is safe. If you specifically wanted the numpy scalar type, use `np.float64` here.\n",
      "Deprecated in NumPy 1.20; for more details and guidance: https://numpy.org/devdocs/release/1.20.0-notes.html#deprecations\n",
      "  eps=np.finfo(np.float).eps, copy_X=True, positive=False):\n",
      "/home/epaxon/anaconda3/lib/python3.7/site-packages/sklearn/decomposition/online_lda.py:29: DeprecationWarning: `np.float` is a deprecated alias for the builtin `float`. To silence this warning, use `float` by itself. Doing this will not modify any behavior and is safe. If you specifically wanted the numpy scalar type, use `np.float64` here.\n",
      "Deprecated in NumPy 1.20; for more details and guidance: https://numpy.org/devdocs/release/1.20.0-notes.html#deprecations\n",
      "  EPS = np.finfo(np.float).eps\n"
     ]
    }
   ],
   "source": [
    "from pylab import *\n",
    "import scipy\n",
    "import time\n",
    "\n",
    "import matplotlib.font_manager\n",
    "import res_utils as ru\n",
    "from scipy.ndimage.interpolation import shift\n",
    "from PIL import ImageFont\n",
    "from skimage.transform import resize\n"
   ]
  },
  {
   "cell_type": "code",
   "execution_count": 2,
   "metadata": {},
   "outputs": [],
   "source": [
    "%matplotlib inline\n",
    "plt.rcParams.update({'font.size': 14})\n",
    "plt.rcParams.update({'text.usetex': True})\n",
    "matplotlib.rcParams['text.latex.preamble'] = [\n",
    "    r'\\usepackage{amsmath}',\n",
    "    r'\\usepackage{amssymb}']\n",
    "plt.rcParams.update({'font.family': 'serif'})\n",
    "plt.rcParams.update({'font.family': 'serif', 'font.serif':['Computer Modern']})\n",
    "\n",
    "np.set_printoptions(precision=3)"
   ]
  },
  {
   "cell_type": "code",
   "execution_count": 3,
   "metadata": {},
   "outputs": [],
   "source": [
    "# You might want to see the fonts on your system and choose a different font\n",
    "#matplotlib.font_manager.findSystemFonts(fontpaths=None, fontext='ttf')\n"
   ]
  },
  {
   "cell_type": "code",
   "execution_count": 4,
   "metadata": {},
   "outputs": [],
   "source": [
    "def norm_range(v):\n",
    "    return (v-v.min())/(v.max()-v.min())"
   ]
  },
  {
   "cell_type": "markdown",
   "metadata": {},
   "source": [
    "# Factorization of shape, color and location\n",
    "\n",
    "In this notebook, we are going to set up a simple scene analysis problem that can be solved with the resonator network. This example generates a scene by combining several factors to create an object: the object is a conjunction of shape, color and location. The shapes of the objects are given by fixed templates (letters chosen from a font). The goal will be to use VSA principles and resonator networks to infer the factors of each object from the scene.\n",
    "\n",
    "First, lets get some letters for the scene."
   ]
  },
  {
   "cell_type": "code",
   "execution_count": 5,
   "metadata": {},
   "outputs": [],
   "source": [
    "# This will determine the size of the scene\n",
    "patch_size=[56, 56]"
   ]
  },
  {
   "cell_type": "code",
   "execution_count": 6,
   "metadata": {},
   "outputs": [
    {
     "data": {
      "text/plain": [
       "<matplotlib.image.AxesImage at 0x7f362e053f28>"
      ]
     },
     "execution_count": 6,
     "metadata": {},
     "output_type": "execute_result"
    },
    {
     "data": {
      "image/png": "[encoded data removed]",
      "text/plain": [
       "<Figure size 432x288 with 1 Axes>"
      ]
     },
     "metadata": {
      "filenames": {
       "image/png": "/Users/epfrady/Documents/Paxon/Research/GitHub/epaxon.github.io/_build/jupyter_execute/Research/resonator_template_6_1.png"
      },
      "needs_background": "light"
     },
     "output_type": "display_data"
    }
   ],
   "source": [
    "\n",
    "#font = ImageFont.load_default().font\n",
    "#font = ImageFont.load_path(u'/usr/share/fonts/truetype/dejavu/DejaVuSerif.ttf').font\n",
    "#font = ImageFont.truetype( u'/usr/share/fonts/truetype/ttf-dejavu/DejaVuSans.ttf', size=18)\n",
    "font =  ImageFont.truetype(u'/usr/share/fonts/truetype/tlwg/TlwgTypewriter-Oblique.ttf', size=18)\n",
    "letters = 'abcdefghijklmnopqrstuvwxyz'\n",
    "\n",
    "font_ims = []\n",
    "fim_size = (patch_size[0],patch_size[1],3)\n",
    "\n",
    "for l in letters:\n",
    "\n",
    "    font_obj = font.getmask(l)\n",
    "    \n",
    "    imtext = np.array(font_obj)\n",
    "    imsize = font_obj.size #font.getsize(l)\n",
    "\n",
    "    imtext = np.tile(imtext.reshape((imsize[1], imsize[0], 1)), (1,1,3))\n",
    "    imtext = imtext[:patch_size[0], :patch_size[1], :]\n",
    "    \n",
    "    imsize = imtext.shape\n",
    "    \n",
    "    fim = np.zeros(fim_size)\n",
    "    \n",
    "    fimr = int(np.floor((fim_size[0] - imsize[0])/2))\n",
    "    fimc = int(np.floor((fim_size[1] - imsize[1])/2))\n",
    "    \n",
    "    fim[fimr:(fimr+imsize[0]), fimc:(fimc+imsize[1]), :] = imtext/255\n",
    "    \n",
    "    font_ims.append(fim)\n",
    "    \n",
    "imshow(font_ims[11], interpolation='none')"
   ]
  },
  {
   "cell_type": "markdown",
   "metadata": {},
   "source": [
    "## Encoding locations with the exponentiation trick\n",
    "\n",
    "The first step of the scene analysis is to encode the scene into a high-dimensional VSA vector. This VSA encoding has some special properties. The first is that the encoding vectors for the pixels are designed in a special way such that the properties of translation are available as a simple operation. "
   ]
  },
  {
   "cell_type": "markdown",
   "metadata": {},
   "source": [
    "Translating the scene in this fashion is possible because the pixels are encoded using the \"exponentiation trick\", where each pixel position is encoded by a single base vector raised to a power. For example, the vertical position 10 is encoded as $V^{10}$. Similarly, the horizontal position has base vector and is also exponentiated by the pixel location. The 2-D location is then indexed as the binding between the vector encodings, e.g. the position 10, 20 is given by $V^{10} \\odot H^{20}$.\n"
   ]
  },
  {
   "cell_type": "code",
   "execution_count": 7,
   "metadata": {},
   "outputs": [],
   "source": [
    "N = int(3e4)\n",
    "\n",
    "# These are special base vectors for position that loop\n",
    "Vt = ru.cvecl(N, font_ims[0].shape[0])\n",
    "Ht = ru.cvecl(N, font_ims[0].shape[1])\n",
    "\n",
    "# This is a set of 3 independently random complex phasor vectors for color\n",
    "Cv = ru.crvec(N, 3)\n"
   ]
  },
  {
   "cell_type": "code",
   "execution_count": 8,
   "metadata": {},
   "outputs": [],
   "source": [
    "def encode_pix(im, Vt, Ht):\n",
    "    N = Vt.shape[0]\n",
    "    \n",
    "    image_vec = 0.0 * ru.cvecl(N, 1)\n",
    "\n",
    "    for m in range(im.shape[0]):\n",
    "        for n in range(im.shape[1]):\n",
    "            P_vec = (Vt ** m) * (Ht ** n)\n",
    "\n",
    "            image_vec += P_vec * im[m, n]\n",
    "            \n",
    "    return image_vec"
   ]
  },
  {
   "cell_type": "code",
   "execution_count": 9,
   "metadata": {},
   "outputs": [],
   "source": [
    "def encode_pix_rgb(im, Vt, Ht, Cv):\n",
    "    N = Vt.shape[0]\n",
    "    \n",
    "    image_vec = 0.0 * ru.cvecl(N, 1)\n",
    "\n",
    "    for m in range(im.shape[0]):\n",
    "        for n in range(im.shape[1]):\n",
    "            for c in range(im.shape[2]):\n",
    "                P_vec = Cv[c] * (Vt ** m) * (Ht ** n)\n",
    "\n",
    "                image_vec += P_vec * im[m, n, c]\n",
    "            \n",
    "    return image_vec"
   ]
  },
  {
   "cell_type": "code",
   "execution_count": 10,
   "metadata": {},
   "outputs": [],
   "source": [
    "def decode_pix(image_vec, Vt, Ht):\n",
    "    N = Vt.shape[0]\n",
    "    im_r = np.zeros(patch_size)\n",
    "    \n",
    "    for m in range(im_r.shape[0]):\n",
    "        for n in range(im_r.shape[1]):\n",
    "            P_vec = (Vt ** m) * (Ht ** n)\n",
    "            im_r[m, n] = np.real(np.dot(np.conj(P_vec), image_vec)/N)\n",
    "    return im_r"
   ]
  },
  {
   "cell_type": "code",
   "execution_count": 11,
   "metadata": {},
   "outputs": [],
   "source": [
    "def decode_pix_rgb(image_vec, Vt, Ht, Cv):\n",
    "    N = Vt.shape[0]\n",
    "    im_r = np.zeros(fim_size)\n",
    "    \n",
    "    for m in range(im_r.shape[0]):\n",
    "        for n in range(im_r.shape[1]):\n",
    "            for c in range(im_r.shape[2]):\n",
    "                P_vec = Cv[c] * (Vt ** m) * (Ht ** n)\n",
    "                im_r[m, n, c] = np.real(np.dot(np.conj(P_vec), image_vec)/N)\n",
    "    return np.clip(im_r, 0, 1)"
   ]
  },
  {
   "cell_type": "code",
   "execution_count": 12,
   "metadata": {},
   "outputs": [],
   "source": [
    "l_idx=0\n",
    "\n",
    "f_vec = encode_pix_rgb(font_ims[l_idx], Vt, Ht, Cv)"
   ]
  },
  {
   "cell_type": "code",
   "execution_count": 13,
   "metadata": {},
   "outputs": [],
   "source": [
    "# translate the image\n",
    "f_vec_tr = f_vec * (Vt**5) * (Ht**30)\n",
    "\n",
    "f_im = decode_pix_rgb(f_vec_tr, Vt, Ht, Cv)"
   ]
  },
  {
   "cell_type": "code",
   "execution_count": 14,
   "metadata": {},
   "outputs": [
    {
     "data": {
      "text/plain": [
       "<matplotlib.image.AxesImage at 0x7f369ffefe80>"
      ]
     },
     "execution_count": 14,
     "metadata": {},
     "output_type": "execute_result"
    },
    {
     "data": {
      "image/png": "[encoded data removed]",
      "text/plain": [
       "<Figure size 432x288 with 2 Axes>"
      ]
     },
     "metadata": {
      "filenames": {
       "image/png": "/Users/epfrady/Documents/Paxon/Research/GitHub/epaxon.github.io/_build/jupyter_execute/Research/resonator_template_16_1.png"
      },
      "needs_background": "light"
     },
     "output_type": "display_data"
    }
   ],
   "source": [
    "subplot(121)\n",
    "imshow(font_ims[l_idx], interpolation='none')\n",
    "subplot(122)\n",
    "imshow(np.clip(f_im, 0, 1),  interpolation='none')"
   ]
  },
  {
   "cell_type": "markdown",
   "metadata": {},
   "source": [
    "## A toroidal image encoding\n",
    "\n",
    "There is a second special property to these vectors, which enables treating the image like a torus -- as we translate to the right and move off of the right side of the image, we will end up on the left side. Same for top and bottom. For this to be possible, we design the base vectors by considering the identity vector and the roots of the identity vector.\n",
    "\n",
    "What is the identity vector? Since the operation we are considering is element-wise multiply, the identity vector is simply a vector where each entry is 1. \n",
    "\n",
    "When we apply the exponentiation trick to a root of the identity vector, then as we increase the exponent, we will eventually go in a loop. We choose the order of the root based on how long we want the loop to be. If we choose a square root of the identity, then we will loop every two steps. If we choose the 4th root, we will loop every 4 steps. Here, we chose a loop the size of the image -- 56 pixels.\n",
    "\n",
    "What are the roots of the identity vector? Of course, the square roots of 1 are (+1, -1). The 4th roots of 1 are (1, i, -1, -i). The N-th root of 1 are the $N$ points around the complex plane: $e^{2 \\pi i k / N} \\forall k = 1, ..., N$. Thus, to form a VSA vector that will loop when raised to the $N$-th power, we choose one of the $N$ roots of identity randomly for each entry of the vector. This is implemented by the function $\\verb|cvecl|$.\n"
   ]
  },
  {
   "cell_type": "code",
   "execution_count": 15,
   "metadata": {},
   "outputs": [
    {
     "data": {
      "image/png": "[encoded data removed]",
      "text/plain": [
       "<Figure size 432x288 with 1 Axes>"
      ]
     },
     "metadata": {
      "filenames": {
       "image/png": "/Users/epfrady/Documents/Paxon/Research/GitHub/epaxon.github.io/_build/jupyter_execute/Research/resonator_template_18_0.png"
      },
      "needs_background": "light"
     },
     "output_type": "display_data"
    }
   ],
   "source": [
    "loop_size = 10\n",
    "loop_vec = ru.cvecl(N, loop_size)\n",
    "\n",
    "pows = np.linspace(-15, 15, 200)\n",
    "sims = np.zeros_like(pows)\n",
    "\n",
    "for i, p in enumerate(pows):\n",
    "    sims[i] = np.real(np.dot(np.conj(loop_vec), loop_vec ** p)) / N\n",
    "                      \n",
    "plot(pows, sims)\n",
    "xlabel('Exponent')\n",
    "ylabel('Similarity')\n",
    "\n",
    "plt.tight_layout()"
   ]
  },
  {
   "cell_type": "markdown",
   "metadata": {},
   "source": [
    "Here, we are examining the similarity between a loop vector and its powers. What we see is high similarity at power 1, as well as at powers 11, and -9. Because we designed the vector based on the roots, we can control how long it takes for it to loop!\n",
    "\n",
    "Note here we are also exponentiating the vectors by fractional powers -- we have the ability to perform fractional binding in the complex domain! This means that as we incremenet the exponent slightly we move smoothly along a manifold in the high-dimensional vector space. "
   ]
  },
  {
   "cell_type": "code",
   "execution_count": 16,
   "metadata": {},
   "outputs": [
    {
     "data": {
      "image/png": "[encoded data removed]",
      "text/plain": [
       "<Figure size 432x288 with 1 Axes>"
      ]
     },
     "metadata": {
      "filenames": {
       "image/png": "/Users/epfrady/Documents/Paxon/Research/GitHub/epaxon.github.io/_build/jupyter_execute/Research/resonator_template_20_0.png"
      },
      "needs_background": "light"
     },
     "output_type": "display_data"
    }
   ],
   "source": [
    "loop_size = 1000\n",
    "loop_vec = ru.cvecl(N, loop_size)\n",
    "\n",
    "pows = np.linspace(-15, 15, 200)\n",
    "sims = np.zeros_like(pows)\n",
    "\n",
    "for i, p in enumerate(pows):\n",
    "    sims[i] = np.real(np.dot(np.conj(loop_vec), loop_vec ** p)) / N\n",
    "                      \n",
    "plot(pows, sims)\n",
    "\n",
    "# compare to the sinc function\n",
    "plot(pows+1, np.sin(np.pi*pows)/(np.pi*pows))\n",
    "\n",
    "xlabel('Exponent')\n",
    "ylabel('Similarity')\n",
    "\n",
    "plt.tight_layout()"
   ]
  },
  {
   "cell_type": "markdown",
   "metadata": {},
   "source": [
    "If we choose a very large loop size (or equivalently a completely random complex VSA vector), then we see a very special curve appear -- the sinc function. "
   ]
  },
  {
   "cell_type": "markdown",
   "metadata": {},
   "source": [
    "## Dealing with correlations\n",
    "\n",
    "Now that we have a way to encode position (that is smooth and can loop), we next need to consider how to deal with encoding of shape and color. \n",
    "\n",
    "The representation for the shape of the object will be linked closely to the representation of pixel location. In essence, the shape of the object is the set of pixel locations that are active. Thus the representation of a particular letter will be the sum of the vector encoding of each pixel location. \n",
    "\n",
    "However, the issue that arises is that the shapes of the different objects are actually correlated. Conceptually, we want each letter to act as a symbol, meaning that it is orthogonal to the other letters. But the objects share many features in the pixel space. These correlations in the pixel space will cause issues with the resonator network when trying to solve the factorization problem. The solution to this issue is to use whitening on the patterns. Whitening orthogonalizes the patterns by adjusting the pixel magnitudes based on how many pixels are shared across letters. \n"
   ]
  },
  {
   "cell_type": "code",
   "execution_count": 17,
   "metadata": {},
   "outputs": [],
   "source": [
    "def svd_whiten(X):\n",
    "\n",
    "    U, s, Vh = np.linalg.svd(X, full_matrices=False)\n",
    "\n",
    "    # U and Vt are the singular matrices, and s contains the singular values.\n",
    "    # Since the rows of both U and Vt are orthonormal vectors, then U * Vt\n",
    "    # will be white\n",
    "    X_white = np.dot(U, Vh)\n",
    "\n",
    "    return X_white"
   ]
  },
  {
   "cell_type": "code",
   "execution_count": 18,
   "metadata": {},
   "outputs": [],
   "source": [
    "font_im_vecs = np.zeros((len(font_ims), np.prod(font_ims[0].shape[:2])))\n",
    "\n",
    "for i in range(len(font_ims)):\n",
    "    font_im_vecs[i, :] = font_ims[i].mean(axis=2).ravel()\n"
   ]
  },
  {
   "cell_type": "code",
   "execution_count": 19,
   "metadata": {},
   "outputs": [
    {
     "data": {
      "image/png": "[encoded data removed]",
      "text/plain": [
       "<Figure size 1440x432 with 26 Axes>"
      ]
     },
     "metadata": {
      "filenames": {
       "image/png": "/Users/epfrady/Documents/Paxon/Research/GitHub/epaxon.github.io/_build/jupyter_execute/Research/resonator_template_25_0.png"
      }
     },
     "output_type": "display_data"
    }
   ],
   "source": [
    "figure(figsize=(20,6))\n",
    "for i in range(26):\n",
    "    subplot(3, 9, i+1)\n",
    "    imshow(font_im_vecs[i].reshape(font_ims[0].shape[:2]))\n",
    "    xticks([])\n",
    "    yticks([])"
   ]
  },
  {
   "cell_type": "code",
   "execution_count": 20,
   "metadata": {},
   "outputs": [
    {
     "data": {
      "text/plain": [
       "<matplotlib.image.AxesImage at 0x7f369f0fa358>"
      ]
     },
     "execution_count": 20,
     "metadata": {},
     "output_type": "execute_result"
    },
    {
     "data": {
      "image/png": "[encoded data removed]",
      "text/plain": [
       "<Figure size 432x288 with 1 Axes>"
      ]
     },
     "metadata": {
      "filenames": {
       "image/png": "/Users/epfrady/Documents/Paxon/Research/GitHub/epaxon.github.io/_build/jupyter_execute/Research/resonator_template_26_1.png"
      },
      "needs_background": "light"
     },
     "output_type": "display_data"
    }
   ],
   "source": [
    "font_ims_w = svd_whiten(font_im_vecs.T).T\n",
    "imshow(norm_range(font_ims_w[15].reshape(font_ims[0].shape[:2])))"
   ]
  },
  {
   "cell_type": "markdown",
   "metadata": {},
   "source": [
    "The whitened shapes look similar to the original shape with certain pixel emphasized or de-emphasized. We can see now that the shapes are orthogonalized."
   ]
  },
  {
   "cell_type": "code",
   "execution_count": 21,
   "metadata": {},
   "outputs": [
    {
     "data": {
      "text/plain": [
       "([], <a list of 0 Text yticklabel objects>)"
      ]
     },
     "execution_count": 21,
     "metadata": {},
     "output_type": "execute_result"
    },
    {
     "data": {
      "image/png": "[encoded data removed]",
      "text/plain": [
       "<Figure size 576x288 with 2 Axes>"
      ]
     },
     "metadata": {
      "filenames": {
       "image/png": "/Users/epfrady/Documents/Paxon/Research/GitHub/epaxon.github.io/_build/jupyter_execute/Research/resonator_template_28_1.png"
      }
     },
     "output_type": "display_data"
    }
   ],
   "source": [
    "original_xcorr = np.dot(font_im_vecs, font_im_vecs.T)\n",
    "whiten_xcorr = np.dot(font_ims_w, font_ims_w.T)\n",
    "\n",
    "figure(figsize=(8,4))\n",
    "subplot(121)\n",
    "imshow(original_xcorr)\n",
    "xticks([])\n",
    "yticks([])\n",
    "\n",
    "subplot(122)\n",
    "imshow(whiten_xcorr)\n",
    "xticks([])\n",
    "yticks([])\n"
   ]
  },
  {
   "cell_type": "markdown",
   "metadata": {},
   "source": [
    "Now we will just encode the templates and the decorrelated templates into a vector. Note that we are not considering the colors and just using the pixel locations for the encoding."
   ]
  },
  {
   "cell_type": "code",
   "execution_count": 22,
   "metadata": {},
   "outputs": [
    {
     "name": "stdout",
     "output_type": "stream",
     "text": [
      "0 1 2 3 4 5 6 7 8 9 10 11 12 13 14 15 16 17 18 19 20 21 22 23 24 25 elapsed: 107.80949354171753\n"
     ]
    }
   ],
   "source": [
    "font_vecs = ru.crvec(N, len(font_ims))\n",
    "tst = time.time()\n",
    "for i in range(len(font_ims)):\n",
    "    print(i, end=\" \")\n",
    "    font_vecs[i,:] = encode_pix(font_ims[i].mean(axis=2), Vt, Ht)\n",
    "print(\"elapsed:\", time.time() - tst)\n",
    "# this is stupidly slow, can be implemented by just a matrix multiply \n",
    "# instead of a loop for better speed (need to store big matrix in memory though)"
   ]
  },
  {
   "cell_type": "code",
   "execution_count": 23,
   "metadata": {},
   "outputs": [
    {
     "name": "stdout",
     "output_type": "stream",
     "text": [
      "0 1 2 3 4 5 6 7 8 9 10 11 12 13 14 15 16 17 18 19 20 21 22 23 24 25 elapsed: 104.15433096885681\n"
     ]
    }
   ],
   "source": [
    "font_vecs_w = ru.crvec(N, len(font_ims))\n",
    "tst = time.time()\n",
    "for i in range(len(font_ims)):\n",
    "    print(i, end=\" \")\n",
    "    font_vecs_w[i,:] = encode_pix(font_ims_w[i].reshape(font_ims[0].shape[:2]), Vt, Ht)\n",
    "print(\"elapsed:\", time.time() - tst)"
   ]
  },
  {
   "cell_type": "markdown",
   "metadata": {},
   "source": [
    "In a similar fashion to the letters, we will also consider color as a factor. Further, we will use 7 different colors. But hmm... 7 colors can't all be orthogonal because color is only a 3 dimensional space! \n",
    "\n",
    "The whitening still has an effect, and is still necessary."
   ]
  },
  {
   "cell_type": "code",
   "execution_count": 24,
   "metadata": {},
   "outputs": [],
   "source": [
    "colors_dict = {'red': [1, 0, 0], 'green': [0, 1, 0], 'blue': [0, 0, 1], 'cyan': [0, 1, 1],\n",
    "          'magenta':[1,0,1], 'yellow': [1, 1, 0], 'white': [1, 1, 1]}"
   ]
  },
  {
   "cell_type": "code",
   "execution_count": 25,
   "metadata": {},
   "outputs": [],
   "source": [
    "colors_arr = np.array(list(colors_dict.values()))\n",
    "colors_lab = np.array(list(colors_dict.keys()))"
   ]
  },
  {
   "cell_type": "code",
   "execution_count": 26,
   "metadata": {},
   "outputs": [
    {
     "data": {
      "text/plain": [
       "<matplotlib.image.AxesImage at 0x7f369f047438>"
      ]
     },
     "execution_count": 26,
     "metadata": {},
     "output_type": "execute_result"
    },
    {
     "data": {
      "image/png": "[encoded data removed]",
      "text/plain": [
       "<Figure size 432x288 with 1 Axes>"
      ]
     },
     "metadata": {
      "filenames": {
       "image/png": "/Users/epfrady/Documents/Paxon/Research/GitHub/epaxon.github.io/_build/jupyter_execute/Research/resonator_template_35_1.png"
      },
      "needs_background": "light"
     },
     "output_type": "display_data"
    }
   ],
   "source": [
    "cols_im = np.tile(colors_arr.reshape([1, colors_arr.shape[0], colors_arr.shape[1]]), [10, 1, 1])\n",
    "imshow(cols_im*255, interpolation='none')"
   ]
  },
  {
   "cell_type": "code",
   "execution_count": 27,
   "metadata": {},
   "outputs": [],
   "source": [
    "colors_svd = svd_whiten(colors_arr)"
   ]
  },
  {
   "cell_type": "code",
   "execution_count": 28,
   "metadata": {},
   "outputs": [
    {
     "data": {
      "text/plain": [
       "<matplotlib.image.AxesImage at 0x7f362b7d2dd8>"
      ]
     },
     "execution_count": 28,
     "metadata": {},
     "output_type": "execute_result"
    },
    {
     "data": {
      "image/png": "[encoded data removed]",
      "text/plain": [
       "<Figure size 432x288 with 1 Axes>"
      ]
     },
     "metadata": {
      "filenames": {
       "image/png": "/Users/epfrady/Documents/Paxon/Research/GitHub/epaxon.github.io/_build/jupyter_execute/Research/resonator_template_37_1.png"
      },
      "needs_background": "light"
     },
     "output_type": "display_data"
    }
   ],
   "source": [
    "cols_svd_im = np.tile(colors_svd.reshape([1, colors_svd.shape[0], colors_svd.shape[1]]), [10, 1, 1])\n",
    "imshow(norm_range(cols_svd_im), interpolation='none')"
   ]
  },
  {
   "cell_type": "code",
   "execution_count": 29,
   "metadata": {},
   "outputs": [],
   "source": [
    "color_vecs = np.dot(colors_arr, Cv)"
   ]
  },
  {
   "cell_type": "code",
   "execution_count": 30,
   "metadata": {},
   "outputs": [
    {
     "data": {
      "text/plain": [
       "(7, 30000)"
      ]
     },
     "execution_count": 30,
     "metadata": {},
     "output_type": "execute_result"
    }
   ],
   "source": [
    "color_vecs_w = np.dot(colors_svd, Cv)\n",
    "color_vecs_w.shape"
   ]
  },
  {
   "cell_type": "markdown",
   "metadata": {},
   "source": [
    "## Setting up the resonator network\n",
    "\n",
    "Now that we have VSA encodings that allow for translation and that deal with correlations in the templates, we can set-up the scene anlaysis problem as a factorization problem that can be solved by the resonator network. \n",
    "\n",
    "The idea is that the scene is composed of several objects, and each object is composed from several factors -- shape, color, horizontal and vertical location. We can store the atomic vectors for location and the decorrelated vectors for shape and color into the clean-up memories of a resonator network. When we present a scene (encoded into the VSA vector) to the resonator network, it will search through combinations of factors that best matches with the input scene. "
   ]
  },
  {
   "cell_type": "code",
   "execution_count": 31,
   "metadata": {},
   "outputs": [],
   "source": [
    "res_xlabels = [colors_lab, np.array(list(letters)), np.arange(patch_size[0]), np.arange(patch_size[1])]\n",
    "res_xticks = [np.arange(0, len(res_xlabels[0]), 3, dtype='int'),\n",
    "              np.arange(0, len(res_xlabels[1]), 8, dtype='int'),\n",
    "              np.arange(0, len(res_xlabels[2]), 10, dtype='int'),\n",
    "              np.arange(0, len(res_xlabels[3]), 10, dtype='int')]"
   ]
  },
  {
   "cell_type": "code",
   "execution_count": 32,
   "metadata": {},
   "outputs": [],
   "source": [
    "# Here we are creating the clean-up memories for the resonator network\n",
    "Vspan = font_ims[0].shape[0]\n",
    "Hspan = font_ims[0].shape[1]\n",
    "\n",
    "Vt_span = ru.crvec(N, Vspan)\n",
    "Ht_span = ru.crvec(N, Hspan)\n",
    "\n",
    "for i in range(Vspan):\n",
    "    ttV = i - Vspan//2\n",
    "    \n",
    "    Vt_span[i,:] = Vt ** ttV\n",
    "\n",
    "    \n",
    "for i in range(Hspan):\n",
    "    ttH = i - Hspan//2\n",
    "    \n",
    "    Ht_span[i,:] = Ht ** ttH\n",
    "\n",
    "res_vecs = []\n",
    "\n",
    "res_vecs.append(color_vecs_w)\n",
    "res_vecs.append(font_vecs_w)\n",
    "res_vecs.append(Vt_span)\n",
    "res_vecs.append(Ht_span)\n"
   ]
  },
  {
   "cell_type": "code",
   "execution_count": 33,
   "metadata": {},
   "outputs": [
    {
     "name": "stdout",
     "output_type": "stream",
     "text": [
      "0 red\n",
      "5 yellow\n",
      "5 yellow\n",
      "figures/smooth_hdmsc-im-l=10-c=red-tV=[32.053]-tH=[36.087]-n210427\n"
     ]
    },
    {
     "ename": "FileNotFoundError",
     "evalue": "[Errno 2] No such file or directory: 'figures/smooth_hdmsc-im-l=10-c=red-tV=[32.053]-tH=[36.087]-n210427.png'",
     "output_type": "error",
     "traceback": [
      "\u001b[0;31m---------------------------------------------------------------------------\u001b[0m",
      "\u001b[0;31mFileNotFoundError\u001b[0m                         Traceback (most recent call last)",
      "\u001b[0;32m<ipython-input-33-4ff70ecea5a2>\u001b[0m in \u001b[0;36m<module>\u001b[0;34m\u001b[0m\n\u001b[1;32m     55\u001b[0m \u001b[0;34m\u001b[0m\u001b[0m\n\u001b[1;32m     56\u001b[0m \u001b[0mprint\u001b[0m\u001b[0;34m(\u001b[0m\u001b[0mfname\u001b[0m\u001b[0;34m)\u001b[0m\u001b[0;34m\u001b[0m\u001b[0;34m\u001b[0m\u001b[0m\n\u001b[0;32m---> 57\u001b[0;31m \u001b[0msavefig\u001b[0m\u001b[0;34m(\u001b[0m\u001b[0mfname\u001b[0m \u001b[0;34m+\u001b[0m \u001b[0;34m'.png'\u001b[0m\u001b[0;34m,\u001b[0m \u001b[0mformat\u001b[0m\u001b[0;34m=\u001b[0m\u001b[0;34m'png'\u001b[0m\u001b[0;34m)\u001b[0m\u001b[0;34m\u001b[0m\u001b[0;34m\u001b[0m\u001b[0m\n\u001b[0m\u001b[1;32m     58\u001b[0m \u001b[0msavefig\u001b[0m\u001b[0;34m(\u001b[0m\u001b[0mfname\u001b[0m \u001b[0;34m+\u001b[0m \u001b[0;34m'.eps'\u001b[0m\u001b[0;34m,\u001b[0m \u001b[0mformat\u001b[0m\u001b[0;34m=\u001b[0m\u001b[0;34m'eps'\u001b[0m\u001b[0;34m)\u001b[0m\u001b[0;34m\u001b[0m\u001b[0;34m\u001b[0m\u001b[0m\n",
      "\u001b[0;32m~/anaconda3/lib/python3.7/site-packages/matplotlib/pyplot.py\u001b[0m in \u001b[0;36msavefig\u001b[0;34m(*args, **kwargs)\u001b[0m\n\u001b[1;32m    714\u001b[0m \u001b[0;32mdef\u001b[0m \u001b[0msavefig\u001b[0m\u001b[0;34m(\u001b[0m\u001b[0;34m*\u001b[0m\u001b[0margs\u001b[0m\u001b[0;34m,\u001b[0m \u001b[0;34m**\u001b[0m\u001b[0mkwargs\u001b[0m\u001b[0;34m)\u001b[0m\u001b[0;34m:\u001b[0m\u001b[0;34m\u001b[0m\u001b[0;34m\u001b[0m\u001b[0m\n\u001b[1;32m    715\u001b[0m     \u001b[0mfig\u001b[0m \u001b[0;34m=\u001b[0m \u001b[0mgcf\u001b[0m\u001b[0;34m(\u001b[0m\u001b[0;34m)\u001b[0m\u001b[0;34m\u001b[0m\u001b[0;34m\u001b[0m\u001b[0m\n\u001b[0;32m--> 716\u001b[0;31m     \u001b[0mres\u001b[0m \u001b[0;34m=\u001b[0m \u001b[0mfig\u001b[0m\u001b[0;34m.\u001b[0m\u001b[0msavefig\u001b[0m\u001b[0;34m(\u001b[0m\u001b[0;34m*\u001b[0m\u001b[0margs\u001b[0m\u001b[0;34m,\u001b[0m \u001b[0;34m**\u001b[0m\u001b[0mkwargs\u001b[0m\u001b[0;34m)\u001b[0m\u001b[0;34m\u001b[0m\u001b[0;34m\u001b[0m\u001b[0m\n\u001b[0m\u001b[1;32m    717\u001b[0m     \u001b[0mfig\u001b[0m\u001b[0;34m.\u001b[0m\u001b[0mcanvas\u001b[0m\u001b[0;34m.\u001b[0m\u001b[0mdraw_idle\u001b[0m\u001b[0;34m(\u001b[0m\u001b[0;34m)\u001b[0m   \u001b[0;31m# need this if 'transparent=True' to reset colors\u001b[0m\u001b[0;34m\u001b[0m\u001b[0;34m\u001b[0m\u001b[0m\n\u001b[1;32m    718\u001b[0m     \u001b[0;32mreturn\u001b[0m \u001b[0mres\u001b[0m\u001b[0;34m\u001b[0m\u001b[0;34m\u001b[0m\u001b[0m\n",
      "\u001b[0;32m~/anaconda3/lib/python3.7/site-packages/matplotlib/figure.py\u001b[0m in \u001b[0;36msavefig\u001b[0;34m(self, fname, transparent, **kwargs)\u001b[0m\n\u001b[1;32m   2178\u001b[0m             \u001b[0mself\u001b[0m\u001b[0;34m.\u001b[0m\u001b[0mpatch\u001b[0m\u001b[0;34m.\u001b[0m\u001b[0mset_visible\u001b[0m\u001b[0;34m(\u001b[0m\u001b[0mframeon\u001b[0m\u001b[0;34m)\u001b[0m\u001b[0;34m\u001b[0m\u001b[0;34m\u001b[0m\u001b[0m\n\u001b[1;32m   2179\u001b[0m \u001b[0;34m\u001b[0m\u001b[0m\n\u001b[0;32m-> 2180\u001b[0;31m         \u001b[0mself\u001b[0m\u001b[0;34m.\u001b[0m\u001b[0mcanvas\u001b[0m\u001b[0;34m.\u001b[0m\u001b[0mprint_figure\u001b[0m\u001b[0;34m(\u001b[0m\u001b[0mfname\u001b[0m\u001b[0;34m,\u001b[0m \u001b[0;34m**\u001b[0m\u001b[0mkwargs\u001b[0m\u001b[0;34m)\u001b[0m\u001b[0;34m\u001b[0m\u001b[0;34m\u001b[0m\u001b[0m\n\u001b[0m\u001b[1;32m   2181\u001b[0m \u001b[0;34m\u001b[0m\u001b[0m\n\u001b[1;32m   2182\u001b[0m         \u001b[0;32mif\u001b[0m \u001b[0mframeon\u001b[0m\u001b[0;34m:\u001b[0m\u001b[0;34m\u001b[0m\u001b[0;34m\u001b[0m\u001b[0m\n",
      "\u001b[0;32m~/anaconda3/lib/python3.7/site-packages/matplotlib/backend_bases.py\u001b[0m in \u001b[0;36mprint_figure\u001b[0;34m(self, filename, dpi, facecolor, edgecolor, orientation, format, bbox_inches, **kwargs)\u001b[0m\n\u001b[1;32m   2080\u001b[0m                     \u001b[0morientation\u001b[0m\u001b[0;34m=\u001b[0m\u001b[0morientation\u001b[0m\u001b[0;34m,\u001b[0m\u001b[0;34m\u001b[0m\u001b[0;34m\u001b[0m\u001b[0m\n\u001b[1;32m   2081\u001b[0m                     \u001b[0mbbox_inches_restore\u001b[0m\u001b[0;34m=\u001b[0m\u001b[0m_bbox_inches_restore\u001b[0m\u001b[0;34m,\u001b[0m\u001b[0;34m\u001b[0m\u001b[0;34m\u001b[0m\u001b[0m\n\u001b[0;32m-> 2082\u001b[0;31m                     **kwargs)\n\u001b[0m\u001b[1;32m   2083\u001b[0m             \u001b[0;32mfinally\u001b[0m\u001b[0;34m:\u001b[0m\u001b[0;34m\u001b[0m\u001b[0;34m\u001b[0m\u001b[0m\n\u001b[1;32m   2084\u001b[0m                 \u001b[0;32mif\u001b[0m \u001b[0mbbox_inches\u001b[0m \u001b[0;32mand\u001b[0m \u001b[0mrestore_bbox\u001b[0m\u001b[0;34m:\u001b[0m\u001b[0;34m\u001b[0m\u001b[0;34m\u001b[0m\u001b[0m\n",
      "\u001b[0;32m~/anaconda3/lib/python3.7/site-packages/matplotlib/backends/backend_agg.py\u001b[0m in \u001b[0;36mprint_png\u001b[0;34m(self, filename_or_obj, metadata, pil_kwargs, *args, **kwargs)\u001b[0m\n\u001b[1;32m    528\u001b[0m             \u001b[0mrenderer\u001b[0m \u001b[0;34m=\u001b[0m \u001b[0mself\u001b[0m\u001b[0;34m.\u001b[0m\u001b[0mget_renderer\u001b[0m\u001b[0;34m(\u001b[0m\u001b[0;34m)\u001b[0m\u001b[0;34m\u001b[0m\u001b[0;34m\u001b[0m\u001b[0m\n\u001b[1;32m    529\u001b[0m             \u001b[0;32mwith\u001b[0m \u001b[0mcbook\u001b[0m\u001b[0;34m.\u001b[0m\u001b[0m_setattr_cm\u001b[0m\u001b[0;34m(\u001b[0m\u001b[0mrenderer\u001b[0m\u001b[0;34m,\u001b[0m \u001b[0mdpi\u001b[0m\u001b[0;34m=\u001b[0m\u001b[0mself\u001b[0m\u001b[0;34m.\u001b[0m\u001b[0mfigure\u001b[0m\u001b[0;34m.\u001b[0m\u001b[0mdpi\u001b[0m\u001b[0;34m)\u001b[0m\u001b[0;34m,\u001b[0m\u001b[0;31m \u001b[0m\u001b[0;31m\\\u001b[0m\u001b[0;34m\u001b[0m\u001b[0;34m\u001b[0m\u001b[0m\n\u001b[0;32m--> 530\u001b[0;31m                     \u001b[0mcbook\u001b[0m\u001b[0;34m.\u001b[0m\u001b[0mopen_file_cm\u001b[0m\u001b[0;34m(\u001b[0m\u001b[0mfilename_or_obj\u001b[0m\u001b[0;34m,\u001b[0m \u001b[0;34m\"wb\"\u001b[0m\u001b[0;34m)\u001b[0m \u001b[0;32mas\u001b[0m \u001b[0mfh\u001b[0m\u001b[0;34m:\u001b[0m\u001b[0;34m\u001b[0m\u001b[0;34m\u001b[0m\u001b[0m\n\u001b[0m\u001b[1;32m    531\u001b[0m                 _png.write_png(renderer._renderer, fh,\n\u001b[1;32m    532\u001b[0m                                self.figure.dpi, metadata=metadata)\n",
      "\u001b[0;32m~/anaconda3/lib/python3.7/contextlib.py\u001b[0m in \u001b[0;36m__enter__\u001b[0;34m(self)\u001b[0m\n\u001b[1;32m    110\u001b[0m         \u001b[0;32mdel\u001b[0m \u001b[0mself\u001b[0m\u001b[0;34m.\u001b[0m\u001b[0margs\u001b[0m\u001b[0;34m,\u001b[0m \u001b[0mself\u001b[0m\u001b[0;34m.\u001b[0m\u001b[0mkwds\u001b[0m\u001b[0;34m,\u001b[0m \u001b[0mself\u001b[0m\u001b[0;34m.\u001b[0m\u001b[0mfunc\u001b[0m\u001b[0;34m\u001b[0m\u001b[0;34m\u001b[0m\u001b[0m\n\u001b[1;32m    111\u001b[0m         \u001b[0;32mtry\u001b[0m\u001b[0;34m:\u001b[0m\u001b[0;34m\u001b[0m\u001b[0;34m\u001b[0m\u001b[0m\n\u001b[0;32m--> 112\u001b[0;31m             \u001b[0;32mreturn\u001b[0m \u001b[0mnext\u001b[0m\u001b[0;34m(\u001b[0m\u001b[0mself\u001b[0m\u001b[0;34m.\u001b[0m\u001b[0mgen\u001b[0m\u001b[0;34m)\u001b[0m\u001b[0;34m\u001b[0m\u001b[0;34m\u001b[0m\u001b[0m\n\u001b[0m\u001b[1;32m    113\u001b[0m         \u001b[0;32mexcept\u001b[0m \u001b[0mStopIteration\u001b[0m\u001b[0;34m:\u001b[0m\u001b[0;34m\u001b[0m\u001b[0;34m\u001b[0m\u001b[0m\n\u001b[1;32m    114\u001b[0m             \u001b[0;32mraise\u001b[0m \u001b[0mRuntimeError\u001b[0m\u001b[0;34m(\u001b[0m\u001b[0;34m\"generator didn't yield\"\u001b[0m\u001b[0;34m)\u001b[0m \u001b[0;32mfrom\u001b[0m \u001b[0;32mNone\u001b[0m\u001b[0;34m\u001b[0m\u001b[0;34m\u001b[0m\u001b[0m\n",
      "\u001b[0;32m~/anaconda3/lib/python3.7/site-packages/matplotlib/cbook/__init__.py\u001b[0m in \u001b[0;36mopen_file_cm\u001b[0;34m(path_or_file, mode, encoding)\u001b[0m\n\u001b[1;32m    445\u001b[0m \u001b[0;32mdef\u001b[0m \u001b[0mopen_file_cm\u001b[0m\u001b[0;34m(\u001b[0m\u001b[0mpath_or_file\u001b[0m\u001b[0;34m,\u001b[0m \u001b[0mmode\u001b[0m\u001b[0;34m=\u001b[0m\u001b[0;34m\"r\"\u001b[0m\u001b[0;34m,\u001b[0m \u001b[0mencoding\u001b[0m\u001b[0;34m=\u001b[0m\u001b[0;32mNone\u001b[0m\u001b[0;34m)\u001b[0m\u001b[0;34m:\u001b[0m\u001b[0;34m\u001b[0m\u001b[0;34m\u001b[0m\u001b[0m\n\u001b[1;32m    446\u001b[0m     \u001b[0;34mr\"\"\"Pass through file objects and context-manage `.PathLike`\\s.\"\"\"\u001b[0m\u001b[0;34m\u001b[0m\u001b[0;34m\u001b[0m\u001b[0m\n\u001b[0;32m--> 447\u001b[0;31m     \u001b[0mfh\u001b[0m\u001b[0;34m,\u001b[0m \u001b[0mopened\u001b[0m \u001b[0;34m=\u001b[0m \u001b[0mto_filehandle\u001b[0m\u001b[0;34m(\u001b[0m\u001b[0mpath_or_file\u001b[0m\u001b[0;34m,\u001b[0m \u001b[0mmode\u001b[0m\u001b[0;34m,\u001b[0m \u001b[0;32mTrue\u001b[0m\u001b[0;34m,\u001b[0m \u001b[0mencoding\u001b[0m\u001b[0;34m)\u001b[0m\u001b[0;34m\u001b[0m\u001b[0;34m\u001b[0m\u001b[0m\n\u001b[0m\u001b[1;32m    448\u001b[0m     \u001b[0;32mif\u001b[0m \u001b[0mopened\u001b[0m\u001b[0;34m:\u001b[0m\u001b[0;34m\u001b[0m\u001b[0;34m\u001b[0m\u001b[0m\n\u001b[1;32m    449\u001b[0m         \u001b[0;32mwith\u001b[0m \u001b[0mfh\u001b[0m\u001b[0;34m:\u001b[0m\u001b[0;34m\u001b[0m\u001b[0;34m\u001b[0m\u001b[0m\n",
      "\u001b[0;32m~/anaconda3/lib/python3.7/site-packages/matplotlib/cbook/__init__.py\u001b[0m in \u001b[0;36mto_filehandle\u001b[0;34m(fname, flag, return_opened, encoding)\u001b[0m\n\u001b[1;32m    430\u001b[0m             \u001b[0mfh\u001b[0m \u001b[0;34m=\u001b[0m \u001b[0mbz2\u001b[0m\u001b[0;34m.\u001b[0m\u001b[0mBZ2File\u001b[0m\u001b[0;34m(\u001b[0m\u001b[0mfname\u001b[0m\u001b[0;34m,\u001b[0m \u001b[0mflag\u001b[0m\u001b[0;34m)\u001b[0m\u001b[0;34m\u001b[0m\u001b[0;34m\u001b[0m\u001b[0m\n\u001b[1;32m    431\u001b[0m         \u001b[0;32melse\u001b[0m\u001b[0;34m:\u001b[0m\u001b[0;34m\u001b[0m\u001b[0;34m\u001b[0m\u001b[0m\n\u001b[0;32m--> 432\u001b[0;31m             \u001b[0mfh\u001b[0m \u001b[0;34m=\u001b[0m \u001b[0mopen\u001b[0m\u001b[0;34m(\u001b[0m\u001b[0mfname\u001b[0m\u001b[0;34m,\u001b[0m \u001b[0mflag\u001b[0m\u001b[0;34m,\u001b[0m \u001b[0mencoding\u001b[0m\u001b[0;34m=\u001b[0m\u001b[0mencoding\u001b[0m\u001b[0;34m)\u001b[0m\u001b[0;34m\u001b[0m\u001b[0;34m\u001b[0m\u001b[0m\n\u001b[0m\u001b[1;32m    433\u001b[0m         \u001b[0mopened\u001b[0m \u001b[0;34m=\u001b[0m \u001b[0;32mTrue\u001b[0m\u001b[0;34m\u001b[0m\u001b[0;34m\u001b[0m\u001b[0m\n\u001b[1;32m    434\u001b[0m     \u001b[0;32melif\u001b[0m \u001b[0mhasattr\u001b[0m\u001b[0;34m(\u001b[0m\u001b[0mfname\u001b[0m\u001b[0;34m,\u001b[0m \u001b[0;34m'seek'\u001b[0m\u001b[0;34m)\u001b[0m\u001b[0;34m:\u001b[0m\u001b[0;34m\u001b[0m\u001b[0;34m\u001b[0m\u001b[0m\n",
      "\u001b[0;31mFileNotFoundError\u001b[0m: [Errno 2] No such file or directory: 'figures/smooth_hdmsc-im-l=10-c=red-tV=[32.053]-tH=[36.087]-n210427.png'"
     ]
    },
    {
     "data": {
      "image/png": "[encoded data removed]",
      "text/plain": [
       "<Figure size 216x216 with 1 Axes>"
      ]
     },
     "metadata": {
      "filenames": {
       "image/png": "/Users/epfrady/Documents/Paxon/Research/GitHub/epaxon.github.io/_build/jupyter_execute/Research/resonator_template_43_2.png"
      },
      "needs_background": "light"
     },
     "output_type": "display_data"
    }
   ],
   "source": [
    "# Generate a scene of three objects with random factors\n",
    "\n",
    "im_idx1 =  np.random.randint(len(font_ims))\n",
    "tH = patch_size[1] * np.random.rand(1)\n",
    "tV = patch_size[0] * np.random.rand(1)\n",
    "rC = np.random.randint(colors_arr.shape[0])\n",
    "print(rC, colors_lab[rC])\n",
    "\n",
    "t_im1 = font_ims[im_idx1].copy()\n",
    "\n",
    "for i in range(t_im1.shape[2]):\n",
    "    t_im1[:,:,i] = colors_arr[rC, i] * t_im1[:,:,i]\n",
    "\n",
    "t_im1 = shift(t_im1, (tV, tH, 0), mode='wrap', order=1)\n",
    "\n",
    "######\n",
    "im_idx2 = np.random.randint(len(font_ims))\n",
    "tH2 = patch_size[1] * np.random.rand(1)\n",
    "tV2 = patch_size[0] * np.random.rand(1)\n",
    "rC2 = np.random.randint(colors_arr.shape[0])\n",
    "print(rC2, colors_lab[rC2])\n",
    "\n",
    "t_im2 = font_ims[im_idx2].copy()\n",
    "\n",
    "for i in range(t_im2.shape[2]):\n",
    "    t_im2[:,:,i] = colors_arr[rC2, i] * t_im2[:,:,i]\n",
    "\n",
    "t_im2 = shift(t_im2, (tV2, tH2, 0), mode='wrap', order=1)\n",
    "\n",
    "######\n",
    "im_idx3 =  np.random.randint(len(font_ims))\n",
    "tH3 = patch_size[1] * np.random.rand(1)\n",
    "tV3 = patch_size[0] * np.random.rand(1)\n",
    "rC3 = np.random.randint(colors_arr.shape[0])\n",
    "print(rC3, colors_lab[rC3])\n",
    "\n",
    "t_im3 = font_ims[im_idx3].copy()\n",
    "\n",
    "for i in range(t_im2.shape[2]):\n",
    "    t_im3[:,:,i] = colors_arr[rC3, i] * t_im3[:,:,i]\n",
    "\n",
    "t_im3 = shift(t_im3, (tV3, tH3, 0), mode='wrap', order=1)\n",
    "\n",
    "\n",
    "#####\n",
    "t_im = np.clip(t_im1 + t_im2 + t_im3, 0, 1)\n",
    "\n",
    "figure(figsize=(3,3))\n",
    "imshow(t_im, interpolation='none')\n",
    "plt.tight_layout()\n",
    "    \n",
    "fname = ('figures/smooth_hdmsc-im' \n",
    "        + '-l=' +str(im_idx1) +'-c=' + colors_lab[rC] + '-tV=' + str(tV) + '-tH=' + str(tH)\n",
    "        + '-n' + time.strftime('%y%m%d'))\n",
    "\n",
    "print(fname)\n",
    "savefig(fname + '.png', format='png')\n",
    "savefig(fname + '.eps', format='eps')"
   ]
  },
  {
   "cell_type": "code",
   "execution_count": null,
   "metadata": {},
   "outputs": [],
   "source": [
    "# encode the scene into a VSA vector\n",
    "bound_vec = encode_pix_rgb(t_im, Vt, Ht, Cv)"
   ]
  },
  {
   "cell_type": "code",
   "execution_count": null,
   "metadata": {},
   "outputs": [],
   "source": [
    "# run the resonator dynamics\n",
    "tst= time.time()\n",
    "res_hist, nsteps = ru.res_decode_abs(bound_vec, res_vecs, 200)\n",
    "print(\"elapsed\", time.time()-tst)"
   ]
  },
  {
   "cell_type": "code",
   "execution_count": null,
   "metadata": {},
   "outputs": [],
   "source": [
    "# visualize the convergence dynamics\n",
    "figure(figsize=(8,3))\n",
    "\n",
    "ru.resplot_im(res_hist, nsteps, labels=res_xlabels, ticks=res_xticks)\n",
    "\n",
    "plt.tight_layout()\n",
    "    \n",
    "fname = ('figures/smooth_hdmsc-res' \n",
    "        + '-l=' +str(im_idx1) +'-c=' + colors_lab[rC] + '-tV=' + str(tV) + '-tH=' + str(tH)\n",
    "        + '-n' + time.strftime('%y%m%d'))\n",
    "\n",
    "print(fname)\n",
    "savefig(fname + '.png', format='png')\n",
    "savefig(fname + '.eps', format='eps')"
   ]
  },
  {
   "cell_type": "markdown",
   "metadata": {},
   "source": [
    "Here we see the resonator dynamics as it tries to find a solution. Each plot describes one of the 4 factors. The network will hone in on one particular object and find its factorization. The colors show the output of the network, with yellow indicating strong confidence on the output. The network will at first jump around the state space quite chaotically, until a good solution is stumbled upon and as if in a moment of insight the network rapdily converges to a factorization of the scene. \n"
   ]
  },
  {
   "cell_type": "markdown",
   "metadata": {},
   "source": [
    "## Explaining away to handle multiple objects\n",
    "\n",
    "The resonator network solves the factorization problem for one object at a time. In order to evaluate the rest of the scene, we expalin-away the output of the resonator network and reset the system. Now the resonator network will hone in and factorize a different object, and the process can be repeated for each object. This procedure is analogous to deflation in tensor decompositions."
   ]
  },
  {
   "cell_type": "code",
   "execution_count": null,
   "metadata": {
    "scrolled": true
   },
   "outputs": [],
   "source": [
    "out_w, out_c = ru.get_output_conv(res_hist, nsteps)\n",
    "print(out_w, out_c)"
   ]
  },
  {
   "cell_type": "code",
   "execution_count": null,
   "metadata": {},
   "outputs": [],
   "source": [
    "# When we explain away, we want to subtract out the original templates, not the whitened templates\n",
    "res_out = color_vecs[out_w[0]] * font_vecs[out_w[1]] * res_vecs[2][out_w[2]] * res_vecs[3][out_w[3]]"
   ]
  },
  {
   "cell_type": "code",
   "execution_count": null,
   "metadata": {},
   "outputs": [],
   "source": [
    "res_out_sim = np.real(np.dot(np.conj(res_out)/norm(res_out), bound_vec/norm(bound_vec)))\n",
    "print(res_out_sim)"
   ]
  },
  {
   "cell_type": "code",
   "execution_count": null,
   "metadata": {},
   "outputs": [],
   "source": [
    "bound_vec2 = bound_vec/norm(bound_vec) - res_out_sim * res_out / norm(res_out)"
   ]
  },
  {
   "cell_type": "code",
   "execution_count": null,
   "metadata": {},
   "outputs": [],
   "source": [
    "tst= time.time()\n",
    "res_hist2, nsteps2 = ru.res_decode_abs(bound_vec2, res_vecs, 200)\n",
    "print(\"elapsed\", time.time()-tst)"
   ]
  },
  {
   "cell_type": "code",
   "execution_count": null,
   "metadata": {},
   "outputs": [],
   "source": [
    "figure(figsize=(8,3))\n",
    "\n",
    "ru.resplot_im(res_hist2, nsteps2, labels=res_xlabels, ticks=res_xticks)\n",
    "\n",
    "plt.tight_layout()\n",
    "    \n",
    "fname = ('figures/smooth_hdmsc-res' \n",
    "        + '-l=' +str(im_idx1) +'-c=' + colors_lab[rC] + '-tV=' + str(tV) + '-tH=' + str(tH)\n",
    "        + '-n' + time.strftime('%y%m%d'))\n",
    "\n",
    "print(fname)\n",
    "savefig(fname + '.png', format='png')\n",
    "savefig(fname + '.eps', format='eps')"
   ]
  },
  {
   "cell_type": "code",
   "execution_count": null,
   "metadata": {
    "scrolled": true
   },
   "outputs": [],
   "source": [
    "out_w2, out_c2 = ru.get_output_conv(res_hist2, nsteps2)\n",
    "print(out_w2, out_c2)"
   ]
  },
  {
   "cell_type": "code",
   "execution_count": null,
   "metadata": {},
   "outputs": [],
   "source": [
    "res_out2 = color_vecs[out_w2[0]] * font_vecs[out_w2[1]] * res_vecs[2][out_w2[2]] * res_vecs[3][out_w2[3]]"
   ]
  },
  {
   "cell_type": "code",
   "execution_count": null,
   "metadata": {},
   "outputs": [],
   "source": [
    "res_out_sim2 = np.real(np.dot(np.conj(res_out2)/norm(res_out2), bound_vec2/norm(bound_vec2)))\n",
    "print(res_out_sim2)"
   ]
  },
  {
   "cell_type": "code",
   "execution_count": null,
   "metadata": {},
   "outputs": [],
   "source": [
    "bound_vec3 = bound_vec2/norm(bound_vec2) - res_out_sim2 * res_out2 / norm(res_out2)\n"
   ]
  },
  {
   "cell_type": "code",
   "execution_count": null,
   "metadata": {},
   "outputs": [],
   "source": [
    "tst= time.time()\n",
    "res_hist3, nsteps3 = ru.res_decode_abs(bound_vec3, res_vecs, 200)\n",
    "print(\"elapsed\", time.time()-tst)"
   ]
  },
  {
   "cell_type": "code",
   "execution_count": null,
   "metadata": {},
   "outputs": [],
   "source": [
    "figure(figsize=(8,3))\n",
    "\n",
    "ru.resplot_im(res_hist3, nsteps3, labels=res_xlabels, ticks=res_xticks)\n",
    "\n",
    "plt.tight_layout()\n",
    "    \n",
    "fname = ('figures/smooth_hdmsc-res' \n",
    "        + '-l=' +str(im_idx1) +'-c=' + colors_lab[rC] + '-tV=' + str(tV) + '-tH=' + str(tH)\n",
    "        + '-n' + time.strftime('%y%m%d'))\n",
    "\n",
    "print(fname)\n",
    "savefig(fname + '.png', format='png')\n",
    "savefig(fname + '.eps', format='eps')"
   ]
  },
  {
   "cell_type": "code",
   "execution_count": null,
   "metadata": {},
   "outputs": [],
   "source": []
  },
  {
   "cell_type": "code",
   "execution_count": null,
   "metadata": {},
   "outputs": [],
   "source": []
  }
 ],
 "metadata": {
  "kernelspec": {
   "display_name": "Python 3",
   "language": "python",
   "name": "python3"
  },
  "language_info": {
   "codemirror_mode": {
    "name": "ipython",
    "version": 3
   },
   "file_extension": ".py",
   "mimetype": "text/x-python",
   "name": "python",
   "nbconvert_exporter": "python",
   "pygments_lexer": "ipython3",
   "version": "3.7.3"
  }
 },
 "nbformat": 4,
 "nbformat_minor": 1
}