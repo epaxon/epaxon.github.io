{
 "cells": [
  {
   "cell_type": "markdown",
   "metadata": {},
   "source": [
    "I like Phi as the name.\n",
    "\n",
    "I need a name for the alien guide...\n",
    "\n",
    "Phi: Who are you?\n",
    "\n",
    "Guide: I have been sent here to monitor you, and to help you. What would you call me? An alien most likely? But I am part of a collective. I am just a piece of Us, but we are simply One. I am here to help you become a part of our One-ness, and to protect you from THEM. That is, if you are worthy.\n",
    "\n",
    "Guide: or is it y'all? 'if y'all are worthy'. A plural form of you is so important for communication, what a silly language!\n",
    "\n",
    "Phi: protect us from them? what is one-ness? y'all? ...only my grandad says yall\n",
    "\n",
    "Guide: well yes Them. You see, your life is still quite primitive, but we closely monitor all of the life in the galaxy. Most of the galaxy is void of life, it pops up only a a few percentage of star systems. Of course most of the life where there is any, you would say it is \"simpler\". And most life doesn't last for much longer than a few million years. You barely see places that go a few billion years before complete extinction. It is pretty rare to see life that diversifies to such a level as here. And its much rarer to find a form of life that unifies, or, well..., a form of life that becomes... THEM.\n",
    "\n",
    "Guide: that is the choice you are here to make for y'all. y'all being all of life on Earth, that is of course your One-ness. Become One with Us, or to become THEM. Or, well, to go extinct is also very possible... \n",
    "\n",
    "Phi: Who are THEM? What do you mean choice?\n",
    "\n",
    "Guide: THEM are how y'all have been to each other for the past billion years. Always at war. Always conquering. Always expanding and consuming. Unstoppable exponential growth. \n",
    "\n",
    "Most of the time, life rarely becomes a real threat. There is usually some large-scale even that simply wipes out all life, activity from a nearby star, a large-scale collision, etc. And many extinctions are due to too much success. Life often dies off due to an explosion of energy consumption that drains the resource reserves, leading to an implosion that wreaks havoc on the environment and life collapses. \n",
    "\n",
    "You earthlings, quite frankly, have it pretty lucky. Your star has been stable. Of course the collision that caused the moon wrecked the early life that was here... but as a whole life on earth was diversified enough to survive through all of these cataclysms. \n",
    "\n",
    "And on that rare instance, when life emerges that grows in sophistication such that it becomes capable of instellar colonization, we see two types of patterns, Us or Them. Well, of course, or extinction. \n",
    "\n",
    "THEM is driven by the evolutionary urge for growth and expansion. THEM are the conquerors. THEM are the settlers of new terrain. THEM is the evolutionary pressure that is inevitable in life-forms that seeks out more energy and more consumption. \n",
    "\n",
    "But evolution and the sophistication that comes with some forms of life, allows also for the possibiltiy of a life-form becoming One. In some sense, on a small-scale, a subsection of your form of life has achieved One-ness. You can see this from your own body, and this is the case that your life contains many organisms that are truly a group of organisms operating as one. \n",
    "\n",
    "Of course, y'all already know these things. Hmmm. y'all humans, that is. You see, your life is close to becoming One, but on the full scale of life -- Life on Earth. This is the case of One-ness, that is, the life-form, in part, recognizes its One-ness and develops a system for organizing the life-form into a unified whole. Much like, how your bodies are built as a collective operation between the trillions of cells that are cooperating to be a unified organism. \n",
    "\n",
    "That is the path of One-ness for Life-on-Earth. You could say, humanity acts as the brain, holding onto life's information, life's memories, and ultimately guiding and controlling the system. The plants and animals all serve an important role as the digestive, immune, and cleaning systems of your metabolism. \n",
    "\n",
    "\n",
    "\n",
    "But then some do, \n",
    "\n",
    "\n"
   ]
  },
  {
   "cell_type": "code",
   "execution_count": null,
   "metadata": {},
   "outputs": [],
   "source": []
  }
 ],
 "metadata": {
  "kernelspec": {
   "display_name": "Python 3",
   "language": "python",
   "name": "python3"
  },
  "language_info": {
   "codemirror_mode": {
    "name": "ipython",
    "version": 3
   },
   "file_extension": ".py",
   "mimetype": "text/x-python",
   "name": "python",
   "nbconvert_exporter": "python",
   "pygments_lexer": "ipython3",
   "version": "3.7.3"
  }
 },
 "nbformat": 4,
 "nbformat_minor": 4
}