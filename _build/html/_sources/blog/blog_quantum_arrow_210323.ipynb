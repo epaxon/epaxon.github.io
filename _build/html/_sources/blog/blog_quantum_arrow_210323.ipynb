{
 "cells": [
  {
   "cell_type": "markdown",
   "metadata": {},
   "source": [
    "# Spacetime and quantum measurements\n",
    "\n",
    "I love the pbs show spacetime:\n",
    "https://www.youtube.com/watch?v=SMPid7Sh0EE&t=610s&ab_channel=PBSSpaceTime\n",
    "\n",
    "This one, however, got me a bit frustrated.\n",
    "\n",
    "Physicists often seem to be mistified by the idea of measurement, and the Copenhagen interpretation of quantum mechanics is just annoying, because I think it is misleading.\n",
    "\n",
    "Matt discusses the quantum arrow, and zeno's paradox. Basically, because you measure a quantum state that is discretized, upon the measurement the wavefunction collapses and the arrow returns to its original position. Without measurement the arrow does not exist in the in-between space but rather in a superposition between the start and the end. \n",
    "\n",
    "I think the logic here is flawed in many ways, and the copenhagen interpretation confuses everyone about the nature of quantum physics. To explain why the idea is flawed, lets start with the metaphor Matt uses to describe measurement. He says something along the lines as, if you are faced with the quantum arrow \"don't blink\", and mentions the metaphor of keeping your eyes open several times to relate to the notion of measurement.\n",
    "\n",
    "However, this is the innappropriate metaphor. The metaphor should not be if your eyes are open, rather the metaphor is whether or not the light is on. It's not don't blink, it's keep the light on.\n",
    "\n",
    "Matt mentions a paper demonstrating quantum zeno affect, and there is a lot of criticism and a literature about the nature of the pertubations required to make measurements. But that is exactly the case, at the quantum level you have to have an interaction to measure something, thus also perturbing it, and erasing information about other aspects of the state that you did not measure.\n",
    "\n",
    "Of course, physicists are missing the ideas in Computational Dynamics. The reason that this measurement issue is a part of physics is because information is a form of energy, and to extract information you must have interaction and perturbation. The mystery of quantum systems is not that they are random, its that it is impossible to measure the system without perturbing it. This is all apparent simply from the way classical waves are measured -- you can use doppler effect to measure velocity with a continuous wave, but this does not localize. You can localize with a sharp delta wave and measure timing of the reflection, but this does not measure velocity. You can measure both with a wavelet, but the precision of both measurements reduces. \n",
    "The act of measurement always requires an interaction. This interaction involves energy transformations, and because information is a form of energy, measurement is simply the interaction that carries away information about some aspect of the quantum state -- it is the light interacting with the quantum arrow, not that your eyes are open.\n",
    "\n"
   ]
  },
  {
   "cell_type": "code",
   "execution_count": null,
   "metadata": {},
   "outputs": [],
   "source": []
  }
 ],
 "metadata": {
  "kernelspec": {
   "display_name": "Python 3",
   "language": "python",
   "name": "python3"
  },
  "language_info": {
   "codemirror_mode": {
    "name": "ipython",
    "version": 3
   },
   "file_extension": ".py",
   "mimetype": "text/x-python",
   "name": "python",
   "nbconvert_exporter": "python",
   "pygments_lexer": "ipython3",
   "version": "3.7.3"
  }
 },
 "nbformat": 4,
 "nbformat_minor": 4
}
