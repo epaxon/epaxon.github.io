{
 "cells": [
  {
   "cell_type": "markdown",
   "id": "414168b3",
   "metadata": {},
   "source": [
    "## Points in high-dimensional space\n",
    "\n",
    "Lets talk about data.\n",
    "\n",
    "When we acquire data, we mathematically describe this data with vectors. The length of the vector is the dimensionality. The values of each vector element can be considered as a point in a high-dimensional space. \n",
    "\n",
    "If we have only 2-dimensional vectors we can plot them and visualize them. \n",
    "\n",
    "Classification attempts to divide up the space into classes. \n",
    "\n",
    "When we have data structured in formats such as matrices or tensors, we can usually turn them into vectors. For instance, an $NxMx3$ RGB image can just be rastered into an $N*M*3$ length vector.\n",
    "\n",
    "\n",
    "\n",
    "\n"
   ]
  }
 ],
 "metadata": {
  "kernelspec": {
   "display_name": "Python 3 (ipykernel)",
   "language": "python",
   "name": "python3"
  },
  "language_info": {
   "codemirror_mode": {
    "name": "ipython",
    "version": 3
   },
   "file_extension": ".py",
   "mimetype": "text/x-python",
   "name": "python",
   "nbconvert_exporter": "python",
   "pygments_lexer": "ipython3",
   "version": "3.9.7"
  }
 },
 "nbformat": 4,
 "nbformat_minor": 5
}
