{
 "cells": [
  {
   "cell_type": "markdown",
   "id": "67bbe491",
   "metadata": {},
   "source": [
    "# Resonator Networks\n",
    "\n",
    "## Resonator Networks 1: \n",
    "\n",
    "![resonator_circuit_diagram](resonator_circuit_diagram.png)\n",
    "\n",
    "<a href=\"https://redwood.berkeley.edu/wp-content/uploads/2020/11/frady2020resonator.pdf\"> Resonator networks 1 </a>\n",
    "\n",
    "## Resonator Networks 2:\n",
    "\n",
    "<a href=\"https://redwood.berkeley.edu/wp-content/uploads/2020/11/kent2020resonator.pdf\"> Resonator network 2 </a>\n",
    "\n",
    "\n",
    "## Template demo\n",
    "\n",
    "<a href=\"https://nbviewer.jupyter.org/url/epaxon.github.io/resonator-template-200915.ipynb\"> Resonator network with template letter scene </a>\n",
    "\n",
    "\n",
    "## Utils\n",
    "[It's dangerous to go alone!](files/res_utils.py)\n",
    "\n"
   ]
  },
  {
   "cell_type": "code",
   "execution_count": null,
   "id": "289d1872",
   "metadata": {},
   "outputs": [],
   "source": []
  }
 ],
 "metadata": {
  "kernelspec": {
   "display_name": "Python 3 (ipykernel)",
   "language": "python",
   "name": "python3"
  },
  "language_info": {
   "codemirror_mode": {
    "name": "ipython",
    "version": 3
   },
   "file_extension": ".py",
   "mimetype": "text/x-python",
   "name": "python",
   "nbconvert_exporter": "python",
   "pygments_lexer": "ipython3",
   "version": "3.9.7"
  }
 },
 "nbformat": 4,
 "nbformat_minor": 5
}
