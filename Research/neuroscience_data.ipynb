{
 "cells": [
  {
   "cell_type": "markdown",
   "id": "f2caf4a5",
   "metadata": {},
   "source": [
    "# Experimental Neuroscience\n",
    "\n",
    "When I started my Ph.D. in neuroscience, I became very excited about imaging for recording large-scale neural activity. In my thesis lab, I had even more of an opportunity to pioneer techniques in voltage-sensitive dye imaging.\n",
    "\n",
    "Most of my contributions to the field were the development of algorithms and data analysis pipelines for making sense of the large-scale recordings. These were packaged up into analysis software, which was particularly useful for my thesis, allowing one to perform analysis on the imaging data quickly enough to use the results to guide follow-up experiments. \n",
    "\n",
    "Since my thesis, I have continued to work with several groups performing large-scale neuroscience imaging experiments, providing the algorithms and data analysis pipelines for their imaging data. Modern neuroscience is very exciting with the ability to record more and more neurons, but there are still many computational and statistical analysis issues to overcome to make sense of this data."
   ]
  },
  {
   "cell_type": "markdown",
   "id": "c9a52e1b",
   "metadata": {},
   "source": [
    "## Scalable Semisupervised Functional Neurocartography Reveals Canonical Neurons in Behavioral Networks\n",
    "\n",
    "E. Paxon Frady, Ashish Kapoor, Eric Horvitz, William B. Kristan Jr. (2016) Neural Computation 28 (8): 1453–1497.\n",
    "\n",
    "![leech_neurocartography.png](leech_neurocartography.png)\n",
    "\n",
    "\n",
    "### Summary\n",
    "\n",
    "For my Ph.D. thesis, I used electrophysiology and voltage-sensitive dye imaging to monitor the activity of dozens of neurons in the leech ganglion while they executed various behaviors. The activity elicited during these behaviors could then be simplified into functional features, such as the phase at which a neuron oscillates during the swim behavior. By combining functional and anatomical features, homologous neurons can be identified across different animals. With this approach we identified dozens of new neurons in the leech ganglion, and built an atlas of the canonical neurons that participate in different leech behaviors. \n",
    "\n",
    "### Links\n",
    "\n",
    "[Neural Computation](https://direct.mit.edu/neco/article-abstract/28/8/1453/8182/Scalable-Semisupervised-Functional)"
   ]
  },
  {
   "cell_type": "markdown",
   "id": "7d8d086a",
   "metadata": {},
   "source": [
    "## Optically monitoring voltage in neurons by photo-induced electron transfer through molecular wires\n",
    "\n",
    "Evan W. Miller, John Y. Lin, E. Paxon Frady, Paul A. Steinbach, William B. Kristan Jr, Roger Y. Tsien. (2012) \n",
    "PNAS, 109 (6), 2114-2119.\n",
    "\n",
    "![voltage_imaging.png](voltage_imaging.png)\n",
    "\n",
    "### Summary\n",
    "\n",
    "Imaging neurons has become a major aspect of experimental neuroscience. However, most imaging of neurons is done with calcium imaging, where a molecule changes its fluorescence in response to calcium in the cell. Yet, most ideas in neuroscience focus on the voltage and spikes of the cell.\n",
    "Working with chemists in Roger Tsien's group, we developed a new type of voltage-sensitive dye (VSD) molecule for use in imaging electrical activity in neurons. \n",
    "These dyes were incredible, and I set up simultaneous VSD imaging and electrophysiology to measure the efficacy of the dyes. \n",
    "\n",
    "### Links\n",
    "\n",
    "\n",
    "[pdf](https://www.researchgate.net/profile/John-Lin-34/publication/221808960_Optically_Monitoring_Voltage_in_Neurons_by_Photo-Induced_Electron_Transfer_Through_Molecular_Wires/links/0deec5245d70a2f05a000000/Optically-Monitoring-Voltage-in-Neurons-by-Photo-Induced-Electron-Transfer-Through-Molecular-Wires.pdf)"
   ]
  },
  {
   "cell_type": "markdown",
   "id": "2fadb263",
   "metadata": {},
   "source": [
    "## Improved PeT molecules for optically sensing voltage in neurons\n",
    "\n",
    "Clifford R Woodford, E Paxon Frady, Richard S Smith, Benjamin Morey, Gabriele Canzi, Sakina F Palida, Ricardo C Araneda, William B Kristan Jr, Clifford P Kubiak, Evan W Miller, Roger Y Tsien. (2015) JACS, 137 (5), 1817-1824.\n",
    "\n",
    "![enhanced_voltage_imaging.png](enhanced_voltage_imaging.png)\n",
    "\n",
    "### Summary\n",
    "\n",
    "I had the honor of continuing to work with the Tsien lab and validate their new designs for voltage-sensitive dyes. Even better VSDs were created!\n",
    "\n",
    "### Links\n",
    "\n",
    "[pdf](http://www.tsienlab.ucsd.edu/Publications/Woodford%202015%20J%20Am%20Chem%20Soc%20-%20Improved%20PeT%20Molecules%20for%20Sensing%20Voltage.pdf)"
   ]
  },
  {
   "cell_type": "markdown",
   "id": "6f039a81",
   "metadata": {},
   "source": [
    "## Direct Imaging of Hippocampal Epileptiform Calcium Motifs Following Kainic Acid Administration in Freely Behaving Mice\n",
    "\n",
    "Tamara K. Berdyyeva, E. Paxon Frady, Jonathan J. Nassi, Leah Aluisio, Yauheniya Cherkas, Stephani Otte, Ryan M. Wyatt, Christine Dugovic, Kunal K. Ghosh, Mark J. Schnitzer, Timothy Lovenberg and Pascal Bonaventure. (2016) Frontiers in Neuroscience, 10.\n",
    "\n",
    "![ca_seizure](ca_seizure.png)\n",
    "\n",
    "\n",
    "### Summary\n",
    "\n",
    "In one of my collaborations, we characterized neural calcium activity prior to the onset of epileptic seizures\n",
    "in rodents. We observed systematic patterns of epileptiform calcium activity: a series of large-scale, intensifying\n",
    "flashes accompanied by a steady increase in cellular calcium levels was followed by an intense spreading calcium\n",
    "wave. This occurs before the onset of overt motor convulsions. Additionally, the anticonvulsant drug Valproate\n",
    "reduced the behavioral severity of seizures, but did not modify the abnormal calcium dynamics.\n",
    "\n",
    "\n",
    "### Links\n",
    "\n",
    "[Frontiers in Neuroscience](https://www.frontiersin.org/articles/10.3389/fnins.2016.00053/full)"
   ]
  },
  {
   "cell_type": "markdown",
   "id": "5cdddfb4",
   "metadata": {},
   "source": [
    "## MicroRNA-101 regulates multiple developmental programs to constrain excitation in adult neural networks\n",
    "\n",
    "Giordano Lippi, Catarina C. Fernandes, Laura A. Ewell, Danielle John, Benedetto Romoli, Giulia Curia, Seth R. Taylor, E. Paxon Frady, Anne B. Jensen, Jerry C. Liu, Melanie M. Chaabane, Cherine Belal, Jason L. Nathanson, Michele Zoli, Jill K. Leutgeb, Giuseppe Biagini, Gene W. Yeo, Darwin K. Berg. (2016). Neuron, 92 (6), 1337-1351.\n",
    "\n",
    "![ca_rna](ca_rna.png)\n",
    "\n",
    "### Summary\n",
    "\n",
    "With Darwin Berg’s group at UCSD, we used the analysis pipeline I developed to characterize calcium activity of neurons in the hippocampus during development. A critical feature of neural\n",
    "networks is that they balance excitation and inhibition to prevent pathological dysfunction. By comparing calcium\n",
    "dynamics across experimental and control groups, we showed that microRNA-101 orchestrates this balance through\n",
    "multiple pathways, shaping the developing network to constrain excitation in the adult.\n",
    "\n",
    "\n",
    "### Links\n",
    "\n",
    "[Neuron](https://www.cell.com/neuron/fulltext/S0896-6273(16)30855-8)\n",
    "\n",
    "[pdf](https://www.cell.com/neuron/pdf/S0896-6273(16)30855-8.pdf)"
   ]
  },
  {
   "cell_type": "markdown",
   "id": "36c1dc49",
   "metadata": {},
   "source": [
    "## Faces and text attract gaze independent of the task: Experimental data and computer model\n",
    "\n",
    "![scan_faces_text](scan_faces_text.png)\n",
    "\n",
    "### Summary\n",
    "\n",
    "The traditional saliency map model of human visual attention uses low-level visual features to attempt to predict fixational eye-movements. In this study, we showed participants images with faces, text and cell-phones to assess whether there are high-order visual features that are more salient than our models would predict. Based on the time it takes for the first fixational eye-movement to be executed, we showed that faces and text are both particularly salient and particularly fast compared to the controls and cell-phones. This suggests that some higher-order features are relevant in the bottum-up computation of the saliency map.\n",
    "\n",
    "### Links\n",
    "\n",
    "[pdf](https://www.researchgate.net/profile/Edward-Frady/publication/40869089_Faces_and_text_attract_gaze_independent_of_the_task_Experimental_data_and_computer_model/links/55919a0908ae1e1f9baffcbd/Faces-and-text-attract-gaze-independent-of-the-task-Experimental-data-and-computer-model.pdf)"
   ]
  },
  {
   "cell_type": "markdown",
   "id": "f493ecf1",
   "metadata": {},
   "source": [
    "## The relation of phase noise and luminance contrast to overt attention in complex visual stimuli\n",
    "\n",
    "![phase_noise](phase_noise.png)\n",
    "\n",
    "### Summary\n",
    "\n",
    "Models of visual attention, aka saliency maps, use image features to attempt to predict fixational eye-movements. These models make certain predictions about eye-movements that we tested by showing subjects images artificially modified to have different contrast-levels and/or phase-noise. Our work revealed some exceptions to the conventional saliency map model. \n",
    "\n",
    "\n",
    "### Links\n",
    "\n",
    "[pdf](https://www.researchgate.net/profile/Peter-Koenig-4/publication/6591080_The_relation_of_phase_noise_and_luminance_contrast_to_overt_attention_in_complex_visual_stimuli/links/09e4150fe54948cc6e000000/The-relation-of-phase-noise-and-luminance-contrast-to-overt-attention-in-complex-visual-stimuli.pdf)\n"
   ]
  },
  {
   "cell_type": "code",
   "execution_count": null,
   "id": "07e4f403",
   "metadata": {},
   "outputs": [],
   "source": []
  }
 ],
 "metadata": {
  "kernelspec": {
   "display_name": "Python 3 (ipykernel)",
   "language": "python",
   "name": "python3"
  },
  "language_info": {
   "codemirror_mode": {
    "name": "ipython",
    "version": 3
   },
   "file_extension": ".py",
   "mimetype": "text/x-python",
   "name": "python",
   "nbconvert_exporter": "python",
   "pygments_lexer": "ipython3",
   "version": "3.9.7"
  }
 },
 "nbformat": 4,
 "nbformat_minor": 5
}
