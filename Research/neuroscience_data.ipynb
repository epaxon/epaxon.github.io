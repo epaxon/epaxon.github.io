{
 "cells": [
  {
   "cell_type": "markdown",
   "id": "f2caf4a5",
   "metadata": {},
   "source": [
    "# Experimental Neuroscience\n",
    "\n",
    "<!--\n",
    "<iframe\n",
    "    width=\"640\"\n",
    "    height=\"480\"\n",
    "    src=\"https://drive.google.com/file/d/0B1wMEnylMrJcdkx2ckU5YVEwODA/view?usp=sharing&resourcekey=0-DpO_dHpEolHdJVBpBUD7cw\"\n",
    "    frameborder=\"0\"\n",
    "    allow=\"autoplay; encrypted-media\"\n",
    "    allowfullscreen\n",
    ">\n",
    "</iframe>\n",
    "-->"
   ]
  },
  {
   "attachments": {},
   "cell_type": "markdown",
   "id": "c9a52e1b",
   "metadata": {},
   "source": [
    "## Scalable Semisupervised Functional Neurocartography Reveals Canonical Neurons in Behavioral Networks\n",
    "\n",
    "E. Paxon Frady, Ashish Kapoor, Eric Horvitz, William B. Kristan Jr. Neural Computation (2016) 28 (8): 1453–1497.\n",
    "\n",
    "![leech_neurocartography.png](leech_neurocartography.png)\n",
    "\n",
    "\n",
    "### Summary\n",
    "\n",
    "For my Ph.D. thesis, I used electrophysiology and voltage-sensitive dye imaging to monitor the activity of hundreds of neurons in the leech ganglion while they executed various behaviors. The activity elicited during these behaviors could then be simplified into functional features, such as the phase at which a neuron oscillates during the swim behavior. By combining functional and anatomical features, homologous neurons can be identified across different animals. With this approach we identified dozens of new neurons in the leech ganglion, and built an atlas of the canonical neurons that participate in different leech behaviors. \n",
    "\n",
    "### Links\n",
    "\n",
    "[Neural Computation](https://direct.mit.edu/neco/article-abstract/28/8/1453/8182/Scalable-Semisupervised-Functional)"
   ]
  },
  {
   "attachments": {},
   "cell_type": "markdown",
   "id": "7d8d086a",
   "metadata": {},
   "source": [
    "## Optically monitoring voltage in neurons by photo-induced electron transfer through molecular wires\n",
    "\n",
    "Evan W. Miller, John Y. Lin, E. Paxon Frady, Paul A. Steinbach, William B. Kristan Jr, Roger Y. Tsien. (2012) \n",
    "PNAS, 109 (6), 2114-2119.\n",
    "\n",
    "![voltage_imaging.png](voltage_imaging.png)\n",
    "\n",
    "### Summary\n",
    "\n",
    "### Links\n",
    "\n"
   ]
  },
  {
   "attachments": {},
   "cell_type": "markdown",
   "id": "2fadb263",
   "metadata": {},
   "source": [
    "## Improved PeT molecules for optically sensing voltage in neurons\n",
    "\n",
    "Clifford R Woodford, E Paxon Frady, Richard S Smith, Benjamin Morey, Gabriele Canzi, Sakina F Palida, Ricardo C Araneda, William B Kristan Jr, Clifford P Kubiak, Evan W Miller, Roger Y Tsien. (2015) JACS, 137 (5), 1817-1824.\n",
    "\n",
    "![enhanced_voltage_imaging.png](enhanced_voltage_imaging.png)\n",
    "\n",
    "### Summary\n",
    "\n",
    "### Links\n",
    "\n"
   ]
  },
  {
   "cell_type": "markdown",
   "id": "6f039a81",
   "metadata": {},
   "source": [
    "## Direct Imaging of Hippocampal Epileptiform Calcium Motifs Following Kainic Acid Administration in Freely Behaving Mice\n",
    "\n",
    "Tamara K. Berdyyeva, E. Paxon Frady, Jonathan J. Nassi, Leah Aluisio, Yauheniya Cherkas, Stephani Otte, Ryan M. Wyatt, Christine Dugovic, Kunal K. Ghosh, Mark J. Schnitzer, Timothy Lovenberg and Pascal Bonaventure. (2016) Frontiers in Neuroscience, 10.\n",
    "\n",
    "![ca_seizure](ca_seizure.png)\n",
    "\n",
    "\n",
    "### Summary\n",
    "\n",
    "\n",
    "### Links\n",
    "\n",
    "[Frontiers in Neuroscience](https://www.frontiersin.org/articles/10.3389/fnins.2016.00053/full)"
   ]
  },
  {
   "cell_type": "markdown",
   "id": "5cdddfb4",
   "metadata": {},
   "source": [
    "## MicroRNA-101 regulates multiple developmental programs to constrain excitation in adult neural networks\n",
    "\n",
    "Giordano Lippi, Catarina C. Fernandes, Laura A. Ewell, Danielle John, Benedetto Romoli, Giulia Curia, Seth R. Taylor, E. Paxon Frady, Anne B. Jensen, Jerry C. Liu, Melanie M. Chaabane, Cherine Belal, Jason L. Nathanson, Michele Zoli, Jill K. Leutgeb, Giuseppe Biagini, Gene W. Yeo, Darwin K. Berg. (2016). Neuron, 92 (6), 1337-1351.\n",
    "\n",
    "![ca_rna](ca_rna.png)\n",
    "\n",
    "### Summary\n",
    "\n",
    "### Links"
   ]
  },
  {
   "cell_type": "markdown",
   "id": "36c1dc49",
   "metadata": {},
   "source": [
    "## Faces and text attract gaze independent of the task: Experimental data and computer model\n",
    "\n",
    "![scan_faces_text](scan_faces_text.png)\n"
   ]
  },
  {
   "cell_type": "markdown",
   "id": "f493ecf1",
   "metadata": {},
   "source": [
    "## The relation of phase noise and luminance contrast to overt attention in complex visual stimuli\n"
   ]
  },
  {
   "cell_type": "code",
   "execution_count": null,
   "id": "07e4f403",
   "metadata": {},
   "outputs": [],
   "source": []
  }
 ],
 "metadata": {
  "kernelspec": {
   "display_name": "Python 3 (ipykernel)",
   "language": "python",
   "name": "python3"
  },
  "language_info": {
   "codemirror_mode": {
    "name": "ipython",
    "version": 3
   },
   "file_extension": ".py",
   "mimetype": "text/x-python",
   "name": "python",
   "nbconvert_exporter": "python",
   "pygments_lexer": "ipython3",
   "version": "3.9.7"
  }
 },
 "nbformat": 4,
 "nbformat_minor": 5
}
